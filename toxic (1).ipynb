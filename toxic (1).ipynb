{
 "cells": [
  {
   "cell_type": "code",
   "execution_count": 1,
   "metadata": {},
   "outputs": [],
   "source": [
    "import pandas as pd\n",
    "import numpy as np\n",
    "\n",
    "import re\n",
    "import string\n",
    "import unicodedata\n",
    "from nltk.stem import PorterStemmer\n",
    "from nltk.stem import WordNetLemmatizer\n",
    "from nltk.corpus import stopwords\n",
    "\n",
    "\n",
    "from tensorflow.keras.preprocessing.text import Tokenizer \n",
    "from tensorflow.keras.preprocessing.sequence import pad_sequences\n",
    "from tensorflow.keras import models, optimizers\n",
    "from tensorflow.keras.layers import Dense, Embedding, LSTM, GRU,Bidirectional\n",
    "from tensorflow.keras.callbacks import CSVLogger\n",
    "\n",
    "import matplotlib.pyplot as plt"
   ]
  },
  {
   "cell_type": "code",
   "execution_count": 9,
   "metadata": {},
   "outputs": [
    {
     "data": {
      "text/html": [
       "<div>\n",
       "<style scoped>\n",
       "    .dataframe tbody tr th:only-of-type {\n",
       "        vertical-align: middle;\n",
       "    }\n",
       "\n",
       "    .dataframe tbody tr th {\n",
       "        vertical-align: top;\n",
       "    }\n",
       "\n",
       "    .dataframe thead th {\n",
       "        text-align: right;\n",
       "    }\n",
       "</style>\n",
       "<table border=\"1\" class=\"dataframe\">\n",
       "  <thead>\n",
       "    <tr style=\"text-align: right;\">\n",
       "      <th></th>\n",
       "      <th>id</th>\n",
       "      <th>comment_text</th>\n",
       "      <th>toxic</th>\n",
       "      <th>severe_toxic</th>\n",
       "      <th>obscene</th>\n",
       "      <th>threat</th>\n",
       "      <th>insult</th>\n",
       "      <th>identity_hate</th>\n",
       "    </tr>\n",
       "  </thead>\n",
       "  <tbody>\n",
       "    <tr>\n",
       "      <th>0</th>\n",
       "      <td>0000997932d777bf</td>\n",
       "      <td>Explanation\\nWhy the edits made under my usern...</td>\n",
       "      <td>0</td>\n",
       "      <td>0</td>\n",
       "      <td>0</td>\n",
       "      <td>0</td>\n",
       "      <td>0</td>\n",
       "      <td>0</td>\n",
       "    </tr>\n",
       "    <tr>\n",
       "      <th>1</th>\n",
       "      <td>000103f0d9cfb60f</td>\n",
       "      <td>D'aww! He matches this background colour I'm s...</td>\n",
       "      <td>0</td>\n",
       "      <td>0</td>\n",
       "      <td>0</td>\n",
       "      <td>0</td>\n",
       "      <td>0</td>\n",
       "      <td>0</td>\n",
       "    </tr>\n",
       "    <tr>\n",
       "      <th>2</th>\n",
       "      <td>000113f07ec002fd</td>\n",
       "      <td>Hey man, I'm really not trying to edit war. It...</td>\n",
       "      <td>0</td>\n",
       "      <td>0</td>\n",
       "      <td>0</td>\n",
       "      <td>0</td>\n",
       "      <td>0</td>\n",
       "      <td>0</td>\n",
       "    </tr>\n",
       "    <tr>\n",
       "      <th>3</th>\n",
       "      <td>0001b41b1c6bb37e</td>\n",
       "      <td>\"\\nMore\\nI can't make any real suggestions on ...</td>\n",
       "      <td>0</td>\n",
       "      <td>0</td>\n",
       "      <td>0</td>\n",
       "      <td>0</td>\n",
       "      <td>0</td>\n",
       "      <td>0</td>\n",
       "    </tr>\n",
       "    <tr>\n",
       "      <th>4</th>\n",
       "      <td>0001d958c54c6e35</td>\n",
       "      <td>You, sir, are my hero. Any chance you remember...</td>\n",
       "      <td>0</td>\n",
       "      <td>0</td>\n",
       "      <td>0</td>\n",
       "      <td>0</td>\n",
       "      <td>0</td>\n",
       "      <td>0</td>\n",
       "    </tr>\n",
       "  </tbody>\n",
       "</table>\n",
       "</div>"
      ],
      "text/plain": [
       "                 id                                       comment_text  toxic  \\\n",
       "0  0000997932d777bf  Explanation\\nWhy the edits made under my usern...      0   \n",
       "1  000103f0d9cfb60f  D'aww! He matches this background colour I'm s...      0   \n",
       "2  000113f07ec002fd  Hey man, I'm really not trying to edit war. It...      0   \n",
       "3  0001b41b1c6bb37e  \"\\nMore\\nI can't make any real suggestions on ...      0   \n",
       "4  0001d958c54c6e35  You, sir, are my hero. Any chance you remember...      0   \n",
       "\n",
       "   severe_toxic  obscene  threat  insult  identity_hate  \n",
       "0             0        0       0       0              0  \n",
       "1             0        0       0       0              0  \n",
       "2             0        0       0       0              0  \n",
       "3             0        0       0       0              0  \n",
       "4             0        0       0       0              0  "
      ]
     },
     "execution_count": 9,
     "metadata": {},
     "output_type": "execute_result"
    }
   ],
   "source": [
    "df = pd.read_csv('train.csv')\n",
    "df.head()"
   ]
  },
  {
   "cell_type": "code",
   "execution_count": 3,
   "metadata": {},
   "outputs": [
    {
     "name": "stdout",
     "output_type": "stream",
     "text": [
      "<class 'pandas.core.frame.DataFrame'>\n",
      "RangeIndex: 159571 entries, 0 to 159570\n",
      "Data columns (total 8 columns):\n",
      " #   Column         Non-Null Count   Dtype \n",
      "---  ------         --------------   ----- \n",
      " 0   id             159571 non-null  object\n",
      " 1   comment_text   159571 non-null  object\n",
      " 2   toxic          159571 non-null  int64 \n",
      " 3   severe_toxic   159571 non-null  int64 \n",
      " 4   obscene        159571 non-null  int64 \n",
      " 5   threat         159571 non-null  int64 \n",
      " 6   insult         159571 non-null  int64 \n",
      " 7   identity_hate  159571 non-null  int64 \n",
      "dtypes: int64(6), object(2)\n",
      "memory usage: 9.7+ MB\n"
     ]
    }
   ],
   "source": [
    "df.info()"
   ]
  },
  {
   "cell_type": "code",
   "execution_count": 4,
   "metadata": {},
   "outputs": [
    {
     "name": "stdout",
     "output_type": "stream",
     "text": [
      "toxic \n",
      " 0    144277\n",
      "1     15294\n",
      "Name: toxic, dtype: int64\n",
      "severe_toxic \n",
      " 0    157976\n",
      "1      1595\n",
      "Name: severe_toxic, dtype: int64\n",
      "obscene \n",
      " 0    151122\n",
      "1      8449\n",
      "Name: obscene, dtype: int64\n",
      "threat \n",
      " 0    159093\n",
      "1       478\n",
      "Name: threat, dtype: int64\n",
      "insult \n",
      " 0    151694\n",
      "1      7877\n",
      "Name: insult, dtype: int64\n",
      "identity_hate \n",
      " 0    158166\n",
      "1      1405\n",
      "Name: identity_hate, dtype: int64\n"
     ]
    }
   ],
   "source": [
    "for col in df.columns[2:]:\n",
    "    print(col,'\\n' , df[col].value_counts())"
   ]
  },
  {
   "cell_type": "code",
   "execution_count": 53,
   "metadata": {},
   "outputs": [
    {
     "data": {
      "text/plain": [
       "array([[<AxesSubplot:title={'center':'toxic'}>,\n",
       "        <AxesSubplot:title={'center':'severe_toxic'}>],\n",
       "       [<AxesSubplot:title={'center':'obscene'}>,\n",
       "        <AxesSubplot:title={'center':'threat'}>],\n",
       "       [<AxesSubplot:title={'center':'insult'}>,\n",
       "        <AxesSubplot:title={'center':'identity_hate'}>]], dtype=object)"
      ]
     },
     "execution_count": 53,
     "metadata": {},
     "output_type": "execute_result"
    },
    {
     "data": {
      "image/png": "[encoded data removed]",
      "text/plain": [
       "<Figure size 1440x1080 with 6 Axes>"
      ]
     },
     "metadata": {
      "needs_background": "light"
     },
     "output_type": "display_data"
    }
   ],
   "source": [
    "df.hist(figsize=(20,15),bins=3,grid=False)"
   ]
  },
  {
   "cell_type": "code",
   "execution_count": 5,
   "metadata": {},
   "outputs": [
    {
     "name": "stdout",
     "output_type": "stream",
     "text": [
      "\"\n",
      "\n",
      " January 2011 and Shii (response to message left on his talk page) \n",
      "\n",
      "@Reaper Eternal: Because Shii has been consistantly and arrogantly abusing his power there at Wikipedia and deserves to be treated like everyone else. POD and Shiithead are extremely biased against Mardyks because he wants the truth about 2012 to be known and they have another agenda which Mardyks keeps calling them out on. Shiithead has made comments such as \"\"invoking Mardyks in a dark mirror and having your soul eaten\"\". Very abusive fellow for a claimed Buddhist and Wiki ad. Search the records. Star Heart\"\n"
     ]
    }
   ],
   "source": [
    "print(df['comment_text'][np.random.randint(159571 )])"
   ]
  },
  {
   "cell_type": "markdown",
   "metadata": {},
   "source": [
    "'''Sorry \n",
    "\n",
    "对不起 (sorry)'''\n",
    "\n",
    "'''\n",
    "subway #km, LRT #km, etc)\n",
    "'''\n",
    "\n",
    "'''\n",
    "You can check the list of blocked users on the following address:\n",
    "\n",
    "http://en.wikipedia.org/wiki/Special:Ipblocklist\n",
    "\n",
    "'''\n",
    "'''\n",
    "(\"\"Hold on to the good\"\" - 1 Thessalonians 5:21)\n",
    "'''"
   ]
  },
  {
   "cell_type": "markdown",
   "metadata": {},
   "source": [
    "# text preprocessing"
   ]
  },
  {
   "cell_type": "code",
   "execution_count": 39,
   "metadata": {},
   "outputs": [
    {
     "name": "stderr",
     "output_type": "stream",
     "text": [
      "[nltk_data] Downloading package stopwords to\n",
      "[nltk_data]     C:\\Users\\ahmed\\AppData\\Roaming\\nltk_data...\n",
      "[nltk_data]   Package stopwords is already up-to-date!\n",
      "[nltk_data] Downloading package wordnet to\n",
      "[nltk_data]     C:\\Users\\ahmed\\AppData\\Roaming\\nltk_data...\n",
      "[nltk_data]   Package wordnet is already up-to-date!\n",
      "[nltk_data] Downloading package omw-1.4 to\n",
      "[nltk_data]     C:\\Users\\ahmed\\AppData\\Roaming\\nltk_data...\n"
     ]
    },
    {
     "data": {
      "text/plain": [
       "True"
      ]
     },
     "execution_count": 39,
     "metadata": {},
     "output_type": "execute_result"
    }
   ],
   "source": [
    "import nltk\n",
    "nltk.download('stopwords')\n",
    "nltk.download('wordnet')\n",
    "nltk.download('omw-1.4')"
   ]
  },
  {
   "cell_type": "code",
   "execution_count": 10,
   "metadata": {},
   "outputs": [],
   "source": [
    "\n",
    "def remove_numbers(text):\n",
    "    return re.sub(r'\\d+','',text)\n",
    "def remove_punc(text):\n",
    "    return text.translate(str.maketrans('','',string.punctuation))#'!\"#$%&\\'()*+,-./:;<=>?@[\\\\]^_`{|}~'\n",
    "def lower_case(text):\n",
    "    return text.lower()\n",
    "def remove_non_english(text):#remove non ascci word\n",
    "    return unicodedata.normalize('NFKD',text).encode('ascii','ignore').decode('utf-8','ignore')\n",
    "def remove_hashtag(text):\n",
    "    return re.sub(r'#\\S+','',text)\n",
    "def remove_links(text):\n",
    "    return re.sub(r'https?://\\S+','',text)\n",
    "def remove_stopWords(words): # some of stop words are importantnt 'i won't hit you '\n",
    "    stopWords = stopwords.words('english')\n",
    "    return words.filter( lambda word : word not in stopWords)\n",
    "def remove_whitespaces(text):\n",
    "    return text.strip()\n",
    "\n",
    "def stem_words(text):\n",
    "    stemmer = PorterStemmer()\n",
    "    return [stemmer.stem(word) for word in text.split(' ')]\n",
    "def limitize_words(text):\n",
    "    lemmatizer = WordNetLemmatizer()\n",
    "    return [lemmatizer.lemmatize(word) for word in text.split(' ')]\n",
    "\n",
    "def clean_text(text):\n",
    "    return remove_numbers(remove_punc(lower_case(remove_non_english(remove_hashtag(remove_links(text))))))"
   ]
  },
  {
   "cell_type": "code",
   "execution_count": 4,
   "metadata": {},
   "outputs": [
    {
     "data": {
      "text/plain": [
       "['i',\n",
       " 'me',\n",
       " 'my',\n",
       " 'myself',\n",
       " 'we',\n",
       " 'our',\n",
       " 'ours',\n",
       " 'ourselves',\n",
       " 'you',\n",
       " \"you're\",\n",
       " \"you've\",\n",
       " \"you'll\",\n",
       " \"you'd\",\n",
       " 'your',\n",
       " 'yours',\n",
       " 'yourself',\n",
       " 'yourselves',\n",
       " 'he',\n",
       " 'him',\n",
       " 'his',\n",
       " 'himself',\n",
       " 'she',\n",
       " \"she's\",\n",
       " 'her',\n",
       " 'hers',\n",
       " 'herself',\n",
       " 'it',\n",
       " \"it's\",\n",
       " 'its',\n",
       " 'itself',\n",
       " 'they',\n",
       " 'them',\n",
       " 'their',\n",
       " 'theirs',\n",
       " 'themselves',\n",
       " 'what',\n",
       " 'which',\n",
       " 'who',\n",
       " 'whom',\n",
       " 'this',\n",
       " 'that',\n",
       " \"that'll\",\n",
       " 'these',\n",
       " 'those',\n",
       " 'am',\n",
       " 'is',\n",
       " 'are',\n",
       " 'was',\n",
       " 'were',\n",
       " 'be',\n",
       " 'been',\n",
       " 'being',\n",
       " 'have',\n",
       " 'has',\n",
       " 'had',\n",
       " 'having',\n",
       " 'do',\n",
       " 'does',\n",
       " 'did',\n",
       " 'doing',\n",
       " 'a',\n",
       " 'an',\n",
       " 'the',\n",
       " 'and',\n",
       " 'but',\n",
       " 'if',\n",
       " 'or',\n",
       " 'because',\n",
       " 'as',\n",
       " 'until',\n",
       " 'while',\n",
       " 'of',\n",
       " 'at',\n",
       " 'by',\n",
       " 'for',\n",
       " 'with',\n",
       " 'about',\n",
       " 'against',\n",
       " 'between',\n",
       " 'into',\n",
       " 'through',\n",
       " 'during',\n",
       " 'before',\n",
       " 'after',\n",
       " 'above',\n",
       " 'below',\n",
       " 'to',\n",
       " 'from',\n",
       " 'up',\n",
       " 'down',\n",
       " 'in',\n",
       " 'out',\n",
       " 'on',\n",
       " 'off',\n",
       " 'over',\n",
       " 'under',\n",
       " 'again',\n",
       " 'further',\n",
       " 'then',\n",
       " 'once',\n",
       " 'here',\n",
       " 'there',\n",
       " 'when',\n",
       " 'where',\n",
       " 'why',\n",
       " 'how',\n",
       " 'all',\n",
       " 'any',\n",
       " 'both',\n",
       " 'each',\n",
       " 'few',\n",
       " 'more',\n",
       " 'most',\n",
       " 'other',\n",
       " 'some',\n",
       " 'such',\n",
       " 'no',\n",
       " 'nor',\n",
       " 'not',\n",
       " 'only',\n",
       " 'own',\n",
       " 'same',\n",
       " 'so',\n",
       " 'than',\n",
       " 'too',\n",
       " 'very',\n",
       " 's',\n",
       " 't',\n",
       " 'can',\n",
       " 'will',\n",
       " 'just',\n",
       " 'don',\n",
       " \"don't\",\n",
       " 'should',\n",
       " \"should've\",\n",
       " 'now',\n",
       " 'd',\n",
       " 'll',\n",
       " 'm',\n",
       " 'o',\n",
       " 're',\n",
       " 've',\n",
       " 'y',\n",
       " 'ain',\n",
       " 'aren',\n",
       " \"aren't\",\n",
       " 'couldn',\n",
       " \"couldn't\",\n",
       " 'didn',\n",
       " \"didn't\",\n",
       " 'doesn',\n",
       " \"doesn't\",\n",
       " 'hadn',\n",
       " \"hadn't\",\n",
       " 'hasn',\n",
       " \"hasn't\",\n",
       " 'haven',\n",
       " \"haven't\",\n",
       " 'isn',\n",
       " \"isn't\",\n",
       " 'ma',\n",
       " 'mightn',\n",
       " \"mightn't\",\n",
       " 'mustn',\n",
       " \"mustn't\",\n",
       " 'needn',\n",
       " \"needn't\",\n",
       " 'shan',\n",
       " \"shan't\",\n",
       " 'shouldn',\n",
       " \"shouldn't\",\n",
       " 'wasn',\n",
       " \"wasn't\",\n",
       " 'weren',\n",
       " \"weren't\",\n",
       " 'won',\n",
       " \"won't\",\n",
       " 'wouldn',\n",
       " \"wouldn't\"]"
      ]
     },
     "execution_count": 4,
     "metadata": {},
     "output_type": "execute_result"
    }
   ],
   "source": [
    "stopwords.words('english')"
   ]
  },
  {
   "cell_type": "code",
   "execution_count": 5,
   "metadata": {},
   "outputs": [
    {
     "data": {
      "text/plain": [
       "'sorry  sorry  subway  lrt  etc you can  check the  list of blocked users on the following address    hold on to the good   thessalonians '"
      ]
     },
     "execution_count": 5,
     "metadata": {},
     "output_type": "execute_result"
    }
   ],
   "source": [
    "s = \"Sorry 对不起 (sorry)''' ''' subway #km, LRT #km, etc)''' You can  check the 2012 list of blocked users on \\\n",
    "the following address: http://en.wikipedia.org/wiki/Special:Ipblocklist ''' ''' \\\n",
    "(Hold on to the good - 1 Thessalonians 5:21)\"\n",
    "s = clean_text(s)\n",
    "s\n"
   ]
  },
  {
   "cell_type": "code",
   "execution_count": 8,
   "metadata": {},
   "outputs": [
    {
     "name": "stdout",
     "output_type": "stream",
     "text": [
      "sorry\n",
      "\n",
      "sorry\n",
      "\n",
      "subway\n",
      "\n",
      "lrt\n",
      "\n",
      "etc\n",
      "you\n",
      "can\n",
      "\n",
      "check\n",
      "the\n",
      "\n",
      "list\n",
      "of\n",
      "blocked\n",
      "users\n",
      "on\n",
      "the\n",
      "following\n",
      "address\n",
      "\n",
      "\n",
      "\n",
      "hold\n",
      "on\n",
      "to\n",
      "the\n",
      "good\n",
      "\n",
      "\n",
      "thessalonians\n",
      "\n"
     ]
    }
   ],
   "source": [
    "for w in s.split(' ') :\n",
    "    print(w)"
   ]
  },
  {
   "cell_type": "code",
   "execution_count": 4,
   "metadata": {},
   "outputs": [
    {
     "data": {
      "text/plain": [
       "0    explanation\\nwhy the edits made under my usern...\n",
       "1    daww he matches this background colour im seem...\n",
       "2    hey man im really not trying to edit war its j...\n",
       "3    \\nmore\\ni cant make any real suggestions on im...\n",
       "4    you sir are my hero any chance you remember wh...\n",
       "Name: comment_text, dtype: object"
      ]
     },
     "execution_count": 4,
     "metadata": {},
     "output_type": "execute_result"
    }
   ],
   "source": [
    "df['comment_text'] =df['comment_text'].apply(clean_text)\n",
    "df.head()['comment_text']"
   ]
  },
  {
   "cell_type": "markdown",
   "metadata": {},
   "source": [
    "# BOW"
   ]
  },
  {
   "cell_type": "code",
   "execution_count": 12,
   "metadata": {},
   "outputs": [],
   "source": [
    "VOC_SIZE = 5000\n",
    "tokenizer = Tokenizer(num_words= VOC_SIZE,split= ' ')\n",
    "tokenizer.fit_on_texts(df['comment_text'])\n"
   ]
  },
  {
   "cell_type": "code",
   "execution_count": 11,
   "metadata": {},
   "outputs": [
    {
     "name": "stdout",
     "output_type": "stream",
     "text": [
      "216103\n"
     ]
    },
    {
     "data": {
      "text/plain": [
       "{'the': 1,\n",
       " 'to': 2,\n",
       " 'of': 3,\n",
       " 'and': 4,\n",
       " 'a': 5,\n",
       " 'you': 6,\n",
       " 'i': 7,\n",
       " 'is': 8,\n",
       " 'that': 9,\n",
       " 'in': 10,\n",
       " 'it': 11,\n",
       " 'for': 12,\n",
       " 'this': 13,\n",
       " 'not': 14,\n",
       " 'on': 15,\n",
       " 'be': 16,\n",
       " 'as': 17,\n",
       " 'have': 18,\n",
       " 'are': 19,\n",
       " 'your': 20,\n",
       " 'with': 21,\n",
       " 'if': 22,\n",
       " 'article': 23,\n",
       " 'was': 24,\n",
       " 'or': 25,\n",
       " 'but': 26,\n",
       " 'page': 27,\n",
       " 'my': 28,\n",
       " 'an': 29,\n",
       " 'from': 30,\n",
       " 'by': 31,\n",
       " 'do': 32,\n",
       " 'at': 33,\n",
       " 'about': 34,\n",
       " 'me': 35,\n",
       " 'so': 36,\n",
       " 'wikipedia': 37,\n",
       " 'can': 38,\n",
       " 'what': 39,\n",
       " 'there': 40,\n",
       " 'talk': 41,\n",
       " 'all': 42,\n",
       " 'has': 43,\n",
       " 'will': 44,\n",
       " 'please': 45,\n",
       " 'would': 46,\n",
       " 'its': 47,\n",
       " 'no': 48,\n",
       " 'one': 49,\n",
       " 'just': 50,\n",
       " 'like': 51,\n",
       " 'they': 52,\n",
       " 'he': 53,\n",
       " 'dont': 54,\n",
       " 'which': 55,\n",
       " 'any': 56,\n",
       " 'been': 57,\n",
       " 'should': 58,\n",
       " 'more': 59,\n",
       " 'we': 60,\n",
       " 'some': 61,\n",
       " 'other': 62,\n",
       " 'who': 63,\n",
       " 'see': 64,\n",
       " 'here': 65,\n",
       " 'also': 66,\n",
       " 'his': 67,\n",
       " 'think': 68,\n",
       " 'im': 69,\n",
       " 'because': 70,\n",
       " 'know': 71,\n",
       " 'how': 72,\n",
       " 'am': 73,\n",
       " 'people': 74,\n",
       " 'why': 75,\n",
       " 'edit': 76,\n",
       " 'articles': 77,\n",
       " 'only': 78,\n",
       " 'up': 79,\n",
       " 'out': 80,\n",
       " 'when': 81,\n",
       " 'were': 82,\n",
       " 'use': 83,\n",
       " 'then': 84,\n",
       " 'may': 85,\n",
       " 'time': 86,\n",
       " 'did': 87,\n",
       " 'them': 88,\n",
       " 'now': 89,\n",
       " 'being': 90,\n",
       " 'their': 91,\n",
       " 'than': 92,\n",
       " 'thanks': 93,\n",
       " 'even': 94,\n",
       " 'get': 95,\n",
       " 'make': 96,\n",
       " 'good': 97,\n",
       " 'had': 98,\n",
       " 'very': 99,\n",
       " 'information': 100,\n",
       " 'does': 101,\n",
       " 'well': 102,\n",
       " 'could': 103,\n",
       " 'want': 104,\n",
       " 'such': 105,\n",
       " 'sources': 106,\n",
       " 'way': 107,\n",
       " 'name': 108,\n",
       " 'these': 109,\n",
       " 'deletion': 110,\n",
       " 'pages': 111,\n",
       " 'first': 112,\n",
       " 'help': 113,\n",
       " 'new': 114,\n",
       " 'editing': 115,\n",
       " 'source': 116,\n",
       " 'go': 117,\n",
       " 'need': 118,\n",
       " 'say': 119,\n",
       " 'section': 120,\n",
       " 'again': 121,\n",
       " 'edits': 122,\n",
       " 'thank': 123,\n",
       " 'user': 124,\n",
       " 'where': 125,\n",
       " 'made': 126,\n",
       " 'many': 127,\n",
       " 'much': 128,\n",
       " 'really': 129,\n",
       " 'used': 130,\n",
       " 'most': 131,\n",
       " 'discussion': 132,\n",
       " 'ive': 133,\n",
       " 'find': 134,\n",
       " 'same': 135,\n",
       " 'deleted': 136,\n",
       " 'into': 137,\n",
       " 'fuck': 138,\n",
       " 'work': 139,\n",
       " 'those': 140,\n",
       " 'since': 141,\n",
       " 'before': 142,\n",
       " 'after': 143,\n",
       " 'point': 144,\n",
       " 'add': 145,\n",
       " 'look': 146,\n",
       " 'right': 147,\n",
       " 'read': 148,\n",
       " 'image': 149,\n",
       " 'take': 150,\n",
       " 'over': 151,\n",
       " 'still': 152,\n",
       " 'someone': 153,\n",
       " 'him': 154,\n",
       " 'two': 155,\n",
       " 'back': 156,\n",
       " 'too': 157,\n",
       " 'fact': 158,\n",
       " 'link': 159,\n",
       " 'said': 160,\n",
       " 'own': 161,\n",
       " 'youre': 162,\n",
       " 'something': 163,\n",
       " 'going': 164,\n",
       " 'blocked': 165,\n",
       " 'list': 166,\n",
       " 'stop': 167,\n",
       " 'without': 168,\n",
       " 'content': 169,\n",
       " 'hi': 170,\n",
       " 'editors': 171,\n",
       " 'under': 172,\n",
       " 'thats': 173,\n",
       " 'our': 174,\n",
       " 'block': 175,\n",
       " 'us': 176,\n",
       " 'utc': 177,\n",
       " 'added': 178,\n",
       " 'history': 179,\n",
       " 'doesnt': 180,\n",
       " 'another': 181,\n",
       " 'removed': 182,\n",
       " 'might': 183,\n",
       " 'welcome': 184,\n",
       " 'note': 185,\n",
       " 'however': 186,\n",
       " 'sure': 187,\n",
       " 'place': 188,\n",
       " 'never': 189,\n",
       " 'done': 190,\n",
       " 'her': 191,\n",
       " 'case': 192,\n",
       " 'put': 193,\n",
       " 'cant': 194,\n",
       " 'personal': 195,\n",
       " 'better': 196,\n",
       " 'seems': 197,\n",
       " 'reason': 198,\n",
       " 'using': 199,\n",
       " 'yourself': 200,\n",
       " 'actually': 201,\n",
       " 'ask': 202,\n",
       " 'comment': 203,\n",
       " 'vandalism': 204,\n",
       " 'while': 205,\n",
       " 'feel': 206,\n",
       " 'question': 207,\n",
       " 'anything': 208,\n",
       " 'believe': 209,\n",
       " 'person': 210,\n",
       " 'links': 211,\n",
       " 'didnt': 212,\n",
       " 'things': 213,\n",
       " 'both': 214,\n",
       " 'best': 215,\n",
       " 'comments': 216,\n",
       " 'ill': 217,\n",
       " 'part': 218,\n",
       " 'policy': 219,\n",
       " 'she': 220,\n",
       " 'hope': 221,\n",
       " 'against': 222,\n",
       " 'off': 223,\n",
       " 'keep': 224,\n",
       " 'already': 225,\n",
       " 'wiki': 226,\n",
       " 'free': 227,\n",
       " 'thing': 228,\n",
       " 'nothing': 229,\n",
       " 'change': 230,\n",
       " 'though': 231,\n",
       " 'wrong': 232,\n",
       " 'problem': 233,\n",
       " 'remove': 234,\n",
       " 'little': 235,\n",
       " 'subject': 236,\n",
       " 'others': 237,\n",
       " 'tag': 238,\n",
       " 'trying': 239,\n",
       " 'copyright': 240,\n",
       " 'must': 241,\n",
       " 'understand': 242,\n",
       " 'above': 243,\n",
       " 'few': 244,\n",
       " 'anyone': 245,\n",
       " 'speedy': 246,\n",
       " 'last': 247,\n",
       " 'issue': 248,\n",
       " 'give': 249,\n",
       " 'years': 250,\n",
       " 'questions': 251,\n",
       " 'agree': 252,\n",
       " 'rather': 253,\n",
       " 'let': 254,\n",
       " 'different': 255,\n",
       " 'editor': 256,\n",
       " 'long': 257,\n",
       " 'isnt': 258,\n",
       " 'world': 259,\n",
       " 'reliable': 260,\n",
       " 'making': 261,\n",
       " 'come': 262,\n",
       " 'sorry': 263,\n",
       " 'reference': 264,\n",
       " 'mean': 265,\n",
       " 'try': 266,\n",
       " 'references': 267,\n",
       " 'continue': 268,\n",
       " 'text': 269,\n",
       " 'doing': 270,\n",
       " 'found': 271,\n",
       " 'great': 272,\n",
       " 'leave': 273,\n",
       " 'says': 274,\n",
       " 'got': 275,\n",
       " 'english': 276,\n",
       " 'probably': 277,\n",
       " 'original': 278,\n",
       " 'every': 279,\n",
       " 'simply': 280,\n",
       " 'word': 281,\n",
       " 'users': 282,\n",
       " 'hello': 283,\n",
       " 'fair': 284,\n",
       " 'either': 285,\n",
       " 'check': 286,\n",
       " 'ip': 287,\n",
       " 'least': 288,\n",
       " 'adding': 289,\n",
       " 'show': 290,\n",
       " 'site': 291,\n",
       " 'state': 292,\n",
       " 'else': 293,\n",
       " 'delete': 294,\n",
       " 'consensus': 295,\n",
       " 'enough': 296,\n",
       " 'request': 297,\n",
       " 'opinion': 298,\n",
       " 'far': 299,\n",
       " 'created': 300,\n",
       " 'around': 301,\n",
       " 'day': 302,\n",
       " 'u': 303,\n",
       " 'life': 304,\n",
       " 'through': 305,\n",
       " 'between': 306,\n",
       " 'example': 307,\n",
       " 'view': 308,\n",
       " 'yes': 309,\n",
       " 'yet': 310,\n",
       " 'reverted': 311,\n",
       " 'id': 312,\n",
       " 'etc': 313,\n",
       " 'contributions': 314,\n",
       " 'war': 315,\n",
       " 'shit': 316,\n",
       " 'matter': 317,\n",
       " 'notable': 318,\n",
       " 'given': 319,\n",
       " 'thought': 320,\n",
       " 'material': 321,\n",
       " 'post': 322,\n",
       " 'book': 323,\n",
       " 'admin': 324,\n",
       " 'write': 325,\n",
       " 'down': 326,\n",
       " 'account': 327,\n",
       " 'having': 328,\n",
       " 'clearly': 329,\n",
       " 'encyclopedia': 330,\n",
       " 'lot': 331,\n",
       " 'support': 332,\n",
       " 'real': 333,\n",
       " 'bad': 334,\n",
       " 'message': 335,\n",
       " 'needs': 336,\n",
       " 'images': 337,\n",
       " 'tell': 338,\n",
       " 'seem': 339,\n",
       " 'called': 340,\n",
       " 'evidence': 341,\n",
       " 'maybe': 342,\n",
       " 'ever': 343,\n",
       " 'instead': 344,\n",
       " 'correct': 345,\n",
       " 'saying': 346,\n",
       " 'clear': 347,\n",
       " 'always': 348,\n",
       " 'number': 349,\n",
       " 'important': 350,\n",
       " 'further': 351,\n",
       " 'quite': 352,\n",
       " 'perhaps': 353,\n",
       " 'true': 354,\n",
       " 'old': 355,\n",
       " 'states': 356,\n",
       " 'hate': 357,\n",
       " 'until': 358,\n",
       " 'bit': 359,\n",
       " 'whether': 360,\n",
       " 'consider': 361,\n",
       " 'language': 362,\n",
       " 'claim': 363,\n",
       " 'written': 364,\n",
       " 'media': 365,\n",
       " 'guidelines': 366,\n",
       " 'once': 367,\n",
       " 'term': 368,\n",
       " 'research': 369,\n",
       " 'version': 370,\n",
       " 'criteria': 371,\n",
       " 'nigger': 372,\n",
       " 'times': 373,\n",
       " 'theres': 374,\n",
       " 'website': 375,\n",
       " 'fucking': 376,\n",
       " 'getting': 377,\n",
       " 'review': 378,\n",
       " 'mention': 379,\n",
       " 'pov': 380,\n",
       " 'oh': 381,\n",
       " 'makes': 382,\n",
       " 'several': 383,\n",
       " 'revert': 384,\n",
       " 'considered': 385,\n",
       " 'words': 386,\n",
       " 'changes': 387,\n",
       " 'cannot': 388,\n",
       " 'idea': 389,\n",
       " 'title': 390,\n",
       " 'suck': 391,\n",
       " 'address': 392,\n",
       " 'based': 393,\n",
       " 'notice': 394,\n",
       " 'top': 395,\n",
       " 'current': 396,\n",
       " 'following': 397,\n",
       " 'each': 398,\n",
       " 'listed': 399,\n",
       " 'means': 400,\n",
       " 'group': 401,\n",
       " 'possible': 402,\n",
       " 'facts': 403,\n",
       " 'year': 404,\n",
       " 'regarding': 405,\n",
       " 'care': 406,\n",
       " 'rules': 407,\n",
       " 'second': 408,\n",
       " 'template': 409,\n",
       " 'main': 410,\n",
       " 'general': 411,\n",
       " 'mentioned': 412,\n",
       " 'course': 413,\n",
       " 'attack': 414,\n",
       " 'whole': 415,\n",
       " 'kind': 416,\n",
       " 'statement': 417,\n",
       " 'left': 418,\n",
       " 'date': 419,\n",
       " 'hey': 420,\n",
       " 'include': 421,\n",
       " 'seen': 422,\n",
       " 'three': 423,\n",
       " 'start': 424,\n",
       " 'issues': 425,\n",
       " 'wikipedias': 426,\n",
       " 's': 427,\n",
       " 'ass': 428,\n",
       " 'ok': 429,\n",
       " 'end': 430,\n",
       " 'call': 431,\n",
       " 'topic': 432,\n",
       " 'less': 433,\n",
       " 'gay': 434,\n",
       " 'man': 435,\n",
       " 'suggest': 436,\n",
       " 'including': 437,\n",
       " 'happy': 438,\n",
       " 'sense': 439,\n",
       " 'big': 440,\n",
       " 'create': 441,\n",
       " 'provide': 442,\n",
       " 'days': 443,\n",
       " 'american': 444,\n",
       " 'myself': 445,\n",
       " 'known': 446,\n",
       " 'redirect': 447,\n",
       " 'sentence': 448,\n",
       " 'appropriate': 449,\n",
       " 'love': 450,\n",
       " 'move': 451,\n",
       " 'changed': 452,\n",
       " 'notability': 453,\n",
       " 'explain': 454,\n",
       " 'started': 455,\n",
       " 'included': 456,\n",
       " 'project': 457,\n",
       " 'removing': 458,\n",
       " 'anyway': 459,\n",
       " 'mind': 460,\n",
       " 'info': 461,\n",
       " 'school': 462,\n",
       " 'th': 463,\n",
       " 'next': 464,\n",
       " 'looking': 465,\n",
       " 'although': 466,\n",
       " 'picture': 467,\n",
       " 'style': 468,\n",
       " 'four': 469,\n",
       " 'relevant': 470,\n",
       " 'wont': 471,\n",
       " 'die': 472,\n",
       " 'answer': 473,\n",
       " 'away': 474,\n",
       " 'sign': 475,\n",
       " 'per': 476,\n",
       " 'youve': 477,\n",
       " 'warning': 478,\n",
       " 'interest': 479,\n",
       " 'order': 480,\n",
       " 'recent': 481,\n",
       " 'community': 482,\n",
       " 'summary': 483,\n",
       " 'lol': 484,\n",
       " 'later': 485,\n",
       " 'claims': 486,\n",
       " 'discuss': 487,\n",
       " 'currently': 488,\n",
       " 'interested': 489,\n",
       " 'attacks': 490,\n",
       " 'policies': 491,\n",
       " 'especially': 492,\n",
       " 'wish': 493,\n",
       " 'wrote': 494,\n",
       " 'able': 495,\n",
       " 'specific': 496,\n",
       " 'neutral': 497,\n",
       " 'public': 498,\n",
       " 'taken': 499,\n",
       " 'writing': 500,\n",
       " 'full': 501,\n",
       " 'names': 502,\n",
       " 'position': 503,\n",
       " 'within': 504,\n",
       " 'line': 505,\n",
       " 'related': 506,\n",
       " 'below': 507,\n",
       " 'during': 508,\n",
       " 'wanted': 509,\n",
       " 'contribs': 510,\n",
       " 'appears': 511,\n",
       " 'stuff': 512,\n",
       " 'certainly': 513,\n",
       " 'official': 514,\n",
       " 'wasnt': 515,\n",
       " 'nice': 516,\n",
       " 'itself': 517,\n",
       " 'faith': 518,\n",
       " 'everyone': 519,\n",
       " 'live': 520,\n",
       " 'report': 521,\n",
       " 'completely': 522,\n",
       " 'according': 523,\n",
       " 'unless': 524,\n",
       " 'common': 525,\n",
       " 'pretty': 526,\n",
       " 'everything': 527,\n",
       " 'country': 528,\n",
       " 'hes': 529,\n",
       " 'looks': 530,\n",
       " 'single': 531,\n",
       " 'due': 532,\n",
       " 'news': 533,\n",
       " 'process': 534,\n",
       " 'god': 535,\n",
       " 'involved': 536,\n",
       " 'fat': 537,\n",
       " 'therefore': 538,\n",
       " 'obviously': 539,\n",
       " 'lead': 540,\n",
       " 'remember': 541,\n",
       " 'hard': 542,\n",
       " 'admins': 543,\n",
       " 'edited': 544,\n",
       " 'came': 545,\n",
       " 'web': 546,\n",
       " 'stay': 547,\n",
       " 'learn': 548,\n",
       " 'future': 549,\n",
       " 'response': 550,\n",
       " 'truth': 551,\n",
       " 'asked': 552,\n",
       " 'past': 553,\n",
       " 'power': 554,\n",
       " 'reading': 555,\n",
       " 'entry': 556,\n",
       " 'quote': 557,\n",
       " 'stupid': 558,\n",
       " 'posted': 559,\n",
       " 'nor': 560,\n",
       " 'talking': 561,\n",
       " 'placed': 562,\n",
       " 'ago': 563,\n",
       " 'email': 564,\n",
       " 'similar': 565,\n",
       " 'game': 566,\n",
       " 'published': 567,\n",
       " 'exactly': 568,\n",
       " 'city': 569,\n",
       " 'today': 570,\n",
       " 'reasons': 571,\n",
       " 'system': 572,\n",
       " 'argument': 573,\n",
       " 'paragraph': 574,\n",
       " 'faggot': 575,\n",
       " 'whatever': 576,\n",
       " 'false': 577,\n",
       " 'havent': 578,\n",
       " 'working': 579,\n",
       " 'sandbox': 580,\n",
       " 'political': 581,\n",
       " 'moron': 582,\n",
       " 'c': 583,\n",
       " 'noticed': 584,\n",
       " 'useful': 585,\n",
       " 'guy': 586,\n",
       " 'regards': 587,\n",
       " 'high': 588,\n",
       " 'united': 589,\n",
       " 'guess': 590,\n",
       " 'appreciate': 591,\n",
       " 'particular': 592,\n",
       " 'deleting': 593,\n",
       " 'form': 594,\n",
       " 'books': 595,\n",
       " 'government': 596,\n",
       " 'dispute': 597,\n",
       " 'five': 598,\n",
       " 'british': 599,\n",
       " 'reverting': 600,\n",
       " 'major': 601,\n",
       " 'lets': 602,\n",
       " 'ones': 603,\n",
       " 'problems': 604,\n",
       " 'national': 605,\n",
       " 'party': 606,\n",
       " 'provided': 607,\n",
       " 'often': 608,\n",
       " 'become': 609,\n",
       " 'side': 610,\n",
       " 'tried': 611,\n",
       " 'reply': 612,\n",
       " 'administrator': 613,\n",
       " 'along': 614,\n",
       " 'needed': 615,\n",
       " 'almost': 616,\n",
       " 'rule': 617,\n",
       " 'stated': 618,\n",
       " 'search': 619,\n",
       " 'took': 620,\n",
       " 'knowledge': 621,\n",
       " 'cheers': 622,\n",
       " 'banned': 623,\n",
       " 'vandalize': 624,\n",
       " 'taking': 625,\n",
       " 'certain': 626,\n",
       " 'law': 627,\n",
       " 'fine': 628,\n",
       " 'username': 629,\n",
       " 'status': 630,\n",
       " 'otherwise': 631,\n",
       " 'company': 632,\n",
       " 'points': 633,\n",
       " 'present': 634,\n",
       " 'terms': 635,\n",
       " 'whats': 636,\n",
       " 'uploaded': 637,\n",
       " 'explanation': 638,\n",
       " 'generally': 639,\n",
       " 'sort': 640,\n",
       " 'entire': 641,\n",
       " 'description': 642,\n",
       " 'shows': 643,\n",
       " 'tags': 644,\n",
       " 'recently': 645,\n",
       " 'follow': 646,\n",
       " 'guys': 647,\n",
       " 'film': 648,\n",
       " 'likely': 649,\n",
       " 'saw': 650,\n",
       " 'aware': 651,\n",
       " 'music': 652,\n",
       " 'alone': 653,\n",
       " 'definition': 654,\n",
       " 'google': 655,\n",
       " 'cited': 656,\n",
       " 'soon': 657,\n",
       " 'indeed': 658,\n",
       " 'wp': 659,\n",
       " 'decide': 660,\n",
       " 'ban': 661,\n",
       " 'views': 662,\n",
       " 'appear': 663,\n",
       " 'week': 664,\n",
       " 'citation': 665,\n",
       " 'open': 666,\n",
       " 'actual': 667,\n",
       " 'contributing': 668,\n",
       " 'interesting': 669,\n",
       " 'white': 670,\n",
       " 'set': 671,\n",
       " 'piece': 672,\n",
       " 'theory': 673,\n",
       " 'short': 674,\n",
       " 'test': 675,\n",
       " 'area': 676,\n",
       " 'told': 677,\n",
       " 'external': 678,\n",
       " 'improve': 679,\n",
       " 'small': 680,\n",
       " 'story': 681,\n",
       " 'simple': 682,\n",
       " 'contact': 683,\n",
       " 'arent': 684,\n",
       " 'allowed': 685,\n",
       " 'various': 686,\n",
       " 'internet': 687,\n",
       " 'moved': 688,\n",
       " 'wouldnt': 689,\n",
       " 'family': 690,\n",
       " 't': 691,\n",
       " 'band': 692,\n",
       " 'attention': 693,\n",
       " 'obvious': 694,\n",
       " 'jew': 695,\n",
       " 'members': 696,\n",
       " 'proposed': 697,\n",
       " 'themselves': 698,\n",
       " 'result': 699,\n",
       " 'thus': 700,\n",
       " 'ie': 701,\n",
       " 'disagree': 702,\n",
       " 'cunt': 703,\n",
       " 'context': 704,\n",
       " 'type': 705,\n",
       " 'sites': 706,\n",
       " 'went': 707,\n",
       " 'mr': 708,\n",
       " 'nonsense': 709,\n",
       " 're': 710,\n",
       " 'previous': 711,\n",
       " 'actions': 712,\n",
       " 'cite': 713,\n",
       " 'works': 714,\n",
       " 'conflict': 715,\n",
       " 'university': 716,\n",
       " 'jews': 717,\n",
       " 'category': 718,\n",
       " 'citations': 719,\n",
       " 'hours': 720,\n",
       " 'shouldnt': 721,\n",
       " 'b': 722,\n",
       " 'enjoy': 723,\n",
       " 'file': 724,\n",
       " 'bias': 725,\n",
       " 'proper': 726,\n",
       " 'job': 727,\n",
       " 'longer': 728,\n",
       " 'together': 729,\n",
       " 'hell': 730,\n",
       " 'sucks': 731,\n",
       " 'sourced': 732,\n",
       " 'happened': 733,\n",
       " 'addition': 734,\n",
       " 'author': 735,\n",
       " 'black': 736,\n",
       " 'valid': 737,\n",
       " 'avoid': 738,\n",
       " 'automatically': 739,\n",
       " 'creating': 740,\n",
       " 'deal': 741,\n",
       " 'death': 742,\n",
       " 'john': 743,\n",
       " 'worked': 744,\n",
       " 'npov': 745,\n",
       " 'goes': 746,\n",
       " 'himself': 747,\n",
       " 'seriously': 748,\n",
       " 'bitch': 749,\n",
       " 'science': 750,\n",
       " 'human': 751,\n",
       " 'proof': 752,\n",
       " 'respect': 753,\n",
       " 'series': 754,\n",
       " 'biased': 755,\n",
       " 'helpful': 756,\n",
       " 'comes': 757,\n",
       " 'accepted': 758,\n",
       " 'large': 759,\n",
       " 'd': 760,\n",
       " 'available': 761,\n",
       " 'exist': 762,\n",
       " 'hand': 763,\n",
       " 'tildes': 764,\n",
       " 'opinions': 765,\n",
       " 'rights': 766,\n",
       " 'sections': 767,\n",
       " 'indicate': 768,\n",
       " 'necessary': 769,\n",
       " 'act': 770,\n",
       " 'meaning': 771,\n",
       " 'criticism': 772,\n",
       " 'attempt': 773,\n",
       " 'accept': 774,\n",
       " 'personally': 775,\n",
       " 'months': 776,\n",
       " 'statements': 777,\n",
       " 'violation': 778,\n",
       " 'action': 779,\n",
       " 'unblock': 780,\n",
       " 'accurate': 781,\n",
       " 'usually': 782,\n",
       " 'german': 783,\n",
       " 'pig': 784,\n",
       " 'cause': 785,\n",
       " 'living': 786,\n",
       " 'yeah': 787,\n",
       " 'copy': 788,\n",
       " 'debate': 789,\n",
       " 'july': 790,\n",
       " 'upon': 791,\n",
       " 'theyre': 792,\n",
       " 'video': 793,\n",
       " 'assume': 794,\n",
       " 'standard': 795,\n",
       " 'calling': 796,\n",
       " 'play': 797,\n",
       " 'rest': 798,\n",
       " 'youll': 799,\n",
       " 'tagged': 800,\n",
       " 'doubt': 801,\n",
       " 'sex': 802,\n",
       " 'dick': 803,\n",
       " 'multiple': 804,\n",
       " 'historical': 805,\n",
       " 'details': 806,\n",
       " 'serious': 807,\n",
       " 'record': 808,\n",
       " 'manual': 809,\n",
       " 'separate': 810,\n",
       " 'blocking': 811,\n",
       " 'fix': 812,\n",
       " 'afd': 813,\n",
       " 'level': 814,\n",
       " 'situation': 815,\n",
       " 'wikiproject': 816,\n",
       " 'explaining': 817,\n",
       " 'refer': 818,\n",
       " 'heard': 819,\n",
       " 'online': 820,\n",
       " 'speak': 821,\n",
       " 'asking': 822,\n",
       " 'complete': 823,\n",
       " 'lack': 824,\n",
       " 'messages': 825,\n",
       " 'none': 826,\n",
       " 'church': 827,\n",
       " 'subjects': 828,\n",
       " 'prove': 829,\n",
       " 'third': 830,\n",
       " 'south': 831,\n",
       " 'apparently': 832,\n",
       " 'august': 833,\n",
       " 'rationale': 834,\n",
       " 'data': 835,\n",
       " 'bullshit': 836,\n",
       " 'behavior': 837,\n",
       " 'period': 838,\n",
       " 'directly': 839,\n",
       " 'legal': 840,\n",
       " 'difference': 841,\n",
       " 'contribute': 842,\n",
       " 'greek': 843,\n",
       " 'huge': 844,\n",
       " 'march': 845,\n",
       " 'gets': 846,\n",
       " 'wikipedian': 847,\n",
       " 'couple': 848,\n",
       " 'early': 849,\n",
       " 'among': 850,\n",
       " 'supposed': 851,\n",
       " 'except': 852,\n",
       " 'quality': 853,\n",
       " 'close': 854,\n",
       " 'space': 855,\n",
       " 'countries': 856,\n",
       " 'meant': 857,\n",
       " 'run': 858,\n",
       " 'team': 859,\n",
       " 'uses': 860,\n",
       " 'military': 861,\n",
       " 'changing': 862,\n",
       " 'significant': 863,\n",
       " 'uk': 864,\n",
       " 'existing': 865,\n",
       " 'specifically': 866,\n",
       " 'pillars': 867,\n",
       " 'fish': 868,\n",
       " 'culture': 869,\n",
       " 'incorrect': 870,\n",
       " 'described': 871,\n",
       " 'jewish': 872,\n",
       " 'disruptive': 873,\n",
       " 'produce': 874,\n",
       " 'field': 875,\n",
       " 'error': 876,\n",
       " 'head': 877,\n",
       " 'india': 878,\n",
       " 'primary': 879,\n",
       " 'friend': 880,\n",
       " 'earlier': 881,\n",
       " 'sometimes': 882,\n",
       " 'administrators': 883,\n",
       " 'outside': 884,\n",
       " 'modern': 885,\n",
       " 'purpose': 886,\n",
       " 'p': 887,\n",
       " 'box': 888,\n",
       " 'particularly': 889,\n",
       " 'photo': 890,\n",
       " 'table': 891,\n",
       " 'release': 892,\n",
       " 'cases': 893,\n",
       " 'gave': 894,\n",
       " 'born': 895,\n",
       " 'june': 896,\n",
       " 'inclusion': 897,\n",
       " 'pictures': 898,\n",
       " 'groups': 899,\n",
       " 'readers': 900,\n",
       " 'character': 901,\n",
       " 'okay': 902,\n",
       " 'vote': 903,\n",
       " 'abuse': 904,\n",
       " 'arguments': 905,\n",
       " 'anonymous': 906,\n",
       " 'business': 907,\n",
       " 'shall': 908,\n",
       " 'sock': 909,\n",
       " 'january': 910,\n",
       " 'numbers': 911,\n",
       " 'tutorial': 912,\n",
       " 'friends': 913,\n",
       " 'control': 914,\n",
       " 'thinking': 915,\n",
       " 'member': 916,\n",
       " 'happen': 917,\n",
       " 'linked': 918,\n",
       " 'reported': 919,\n",
       " 'coming': 920,\n",
       " 'contest': 921,\n",
       " 'concerns': 922,\n",
       " 'allow': 923,\n",
       " 'takes': 924,\n",
       " 'majority': 925,\n",
       " 'wait': 926,\n",
       " 'giving': 927,\n",
       " 'force': 928,\n",
       " 'bring': 929,\n",
       " 'red': 930,\n",
       " 'eg': 931,\n",
       " 'worth': 932,\n",
       " 'kill': 933,\n",
       " 'totally': 934,\n",
       " 'decided': 935,\n",
       " 'discussed': 936,\n",
       " 'decision': 937,\n",
       " 'finally': 938,\n",
       " 'house': 939,\n",
       " 'absolutely': 940,\n",
       " 'putting': 941,\n",
       " 'de': 942,\n",
       " 'million': 943,\n",
       " 'respond': 944,\n",
       " 'mistake': 945,\n",
       " 'home': 946,\n",
       " 'scientific': 947,\n",
       " 'lost': 948,\n",
       " 'towards': 949,\n",
       " 'entirely': 950,\n",
       " 'international': 951,\n",
       " 'song': 952,\n",
       " 'merely': 953,\n",
       " 'neither': 954,\n",
       " 'independent': 955,\n",
       " 'balls': 956,\n",
       " 'dear': 957,\n",
       " 'unsigned': 958,\n",
       " 'april': 959,\n",
       " 'wants': 960,\n",
       " 'possibly': 961,\n",
       " 'standards': 962,\n",
       " 'irrelevant': 963,\n",
       " 'north': 964,\n",
       " 'press': 965,\n",
       " 'figure': 966,\n",
       " 'organization': 967,\n",
       " 'looked': 968,\n",
       " 'chance': 969,\n",
       " 'inappropriate': 970,\n",
       " 'advice': 971,\n",
       " 'population': 972,\n",
       " 'posting': 973,\n",
       " 'posts': 974,\n",
       " 'events': 975,\n",
       " 'x': 976,\n",
       " 'unfortunately': 977,\n",
       " 'computer': 978,\n",
       " 'eat': 979,\n",
       " 'named': 980,\n",
       " 'album': 981,\n",
       " 'civil': 982,\n",
       " 'final': 983,\n",
       " 'examples': 984,\n",
       " 'acceptable': 985,\n",
       " 'preceding': 986,\n",
       " 'removal': 987,\n",
       " 'individual': 988,\n",
       " 'court': 989,\n",
       " 'gives': 990,\n",
       " 'mine': 991,\n",
       " 'meet': 992,\n",
       " 'asshole': 993,\n",
       " 'religion': 994,\n",
       " 'understanding': 995,\n",
       " 'youd': 996,\n",
       " 'christian': 997,\n",
       " 'sound': 998,\n",
       " 'wanker': 999,\n",
       " 'requesting': 1000,\n",
       " ...}"
      ]
     },
     "execution_count": 11,
     "metadata": {},
     "output_type": "execute_result"
    }
   ],
   "source": [
    "print(len(tokenizer.word_index))\n",
    "tokenizer.word_index"
   ]
  },
  {
   "cell_type": "code",
   "execution_count": 12,
   "metadata": {},
   "outputs": [],
   "source": [
    "X_data = tokenizer.texts_to_matrix(df['comment_text'], mode='binary')\n"
   ]
  },
  {
   "cell_type": "code",
   "execution_count": 13,
   "metadata": {},
   "outputs": [
    {
     "data": {
      "text/plain": [
       "(159571, 5000)"
      ]
     },
     "execution_count": 13,
     "metadata": {},
     "output_type": "execute_result"
    }
   ],
   "source": [
    "X_data.shape"
   ]
  },
  {
   "cell_type": "code",
   "execution_count": 14,
   "metadata": {},
   "outputs": [
    {
     "data": {
      "text/plain": [
       "array([[0., 1., 0., ..., 0., 0., 0.],\n",
       "       [0., 0., 0., ..., 0., 0., 0.],\n",
       "       [0., 1., 1., ..., 0., 0., 0.],\n",
       "       ...,\n",
       "       [0., 0., 0., ..., 0., 0., 0.],\n",
       "       [0., 1., 1., ..., 0., 0., 0.],\n",
       "       [0., 0., 0., ..., 0., 0., 0.]])"
      ]
     },
     "execution_count": 14,
     "metadata": {},
     "output_type": "execute_result"
    }
   ],
   "source": [
    "X_data"
   ]
  },
  {
   "cell_type": "code",
   "execution_count": 15,
   "metadata": {},
   "outputs": [],
   "source": [
    "#free some momery\n",
    "del(X_data)"
   ]
  },
  {
   "cell_type": "code",
   "execution_count": 6,
   "metadata": {},
   "outputs": [
    {
     "data": {
      "text/plain": [
       "(159571, 6)"
      ]
     },
     "execution_count": 6,
     "metadata": {},
     "output_type": "execute_result"
    }
   ],
   "source": [
    "Y_data = df.iloc[:,2:]\n",
    "Y_data.shape"
   ]
  },
  {
   "cell_type": "markdown",
   "metadata": {},
   "source": [
    "## text to sequences"
   ]
  },
  {
   "cell_type": "code",
   "execution_count": 7,
   "metadata": {},
   "outputs": [],
   "source": [
    "X_sequences = tokenizer.texts_to_sequences(df['comment_text'])\n",
    "sequences_pad = pad_sequences(X_sequences, maxlen=100,padding='post')"
   ]
  },
  {
   "cell_type": "code",
   "execution_count": 12,
   "metadata": {},
   "outputs": [
    {
     "name": "stdout",
     "output_type": "stream",
     "text": [
      "(159571, 100)\n"
     ]
    },
    {
     "data": {
      "text/plain": [
       "array([[ 638,   75,    1, ...,    0,    0,    0],\n",
       "       [  53, 2441,   13, ...,    0,    0,    0],\n",
       "       [ 420,  435,   69, ...,    0,    0,    0],\n",
       "       ...,\n",
       "       [ 374,   48,  667, ...,    0,    0,    0],\n",
       "       [   4,   11,  530, ...,    0,    0,    0],\n",
       "       [   4,    7,  129, ...,    0,    0,    0]])"
      ]
     },
     "execution_count": 12,
     "metadata": {},
     "output_type": "execute_result"
    }
   ],
   "source": [
    "print(sequences_pad.shape)\n",
    "sequences_pad"
   ]
  },
  {
   "cell_type": "code",
   "execution_count": 8,
   "metadata": {},
   "outputs": [],
   "source": [
    "from sklearn.model_selection import train_test_split\n",
    "x_train, x_test, y_train, y_test = train_test_split(sequences_pad, Y_data, test_size=0.2)"
   ]
  },
  {
   "cell_type": "code",
   "execution_count": 9,
   "metadata": {},
   "outputs": [],
   "source": [
    "del(sequences_pad)\n",
    "del(Y_data)"
   ]
  },
  {
   "cell_type": "code",
   "execution_count": 10,
   "metadata": {},
   "outputs": [],
   "source": [
    "y_train = np.asarray(y_train).astype('float32')\n",
    "y_test = np.asarray(y_test).astype('float32')"
   ]
  },
  {
   "cell_type": "markdown",
   "metadata": {},
   "source": [
    "# try differnet models"
   ]
  },
  {
   "cell_type": "markdown",
   "metadata": {},
   "source": [
    "## LSTM"
   ]
  },
  {
   "cell_type": "code",
   "execution_count": 14,
   "metadata": {},
   "outputs": [
    {
     "name": "stdout",
     "output_type": "stream",
     "text": [
      "Model: \"sequential\"\n",
      "_________________________________________________________________\n",
      " Layer (type)                Output Shape              Param #   \n",
      "=================================================================\n",
      " embedding (Embedding)       (None, 100, 32)           1600032   \n",
      "                                                                 \n",
      " lstm (LSTM)                 (None, 32)                8320      \n",
      "                                                                 \n",
      " dense (Dense)               (None, 64)                2112      \n",
      "                                                                 \n",
      " dense_1 (Dense)             (None, 32)                2080      \n",
      "                                                                 \n",
      " dense_2 (Dense)             (None, 6)                 198       \n",
      "                                                                 \n",
      "=================================================================\n",
      "Total params: 1,612,742\n",
      "Trainable params: 1,612,742\n",
      "Non-trainable params: 0\n",
      "_________________________________________________________________\n"
     ]
    }
   ],
   "source": [
    "lstmModel = models.Sequential()\n",
    "lstmModel.add(Embedding(50000+1,32,input_length = x_train.shape[1]))\n",
    "lstmModel.add(LSTM(32,activation='tanh'))\n",
    "lstmModel.add(Dense(64,activation = 'relu'))\n",
    "lstmModel.add(Dense(32,activation = 'relu'))\n",
    "lstmModel.add(Dense(6,activation = 'sigmoid'))\n",
    "lstmModel.summary()"
   ]
  },
  {
   "cell_type": "code",
   "execution_count": 15,
   "metadata": {},
   "outputs": [],
   "source": [
    "filename='lstmlog.csv'\n",
    "lstm_history_logger=CSVLogger(filename, separator=\",\", append=True)\n"
   ]
  },
  {
   "cell_type": "code",
   "execution_count": 16,
   "metadata": {},
   "outputs": [
    {
     "name": "stdout",
     "output_type": "stream",
     "text": [
      "Epoch 1/20\n",
      "998/998 [==============================] - 16s 10ms/step - loss: 0.1522 - Accuracy: 0.9550 - val_loss: 0.1198 - val_Accuracy: 0.9932\n",
      "Epoch 2/20\n",
      "998/998 [==============================] - 9s 9ms/step - loss: 0.1168 - Accuracy: 0.9944 - val_loss: 0.1155 - val_Accuracy: 0.9932\n",
      "Epoch 3/20\n",
      "998/998 [==============================] - 9s 9ms/step - loss: 0.1283 - Accuracy: 0.9944 - val_loss: 0.1348 - val_Accuracy: 0.9932\n",
      "Epoch 4/20\n",
      "998/998 [==============================] - 9s 9ms/step - loss: 0.1351 - Accuracy: 0.9944 - val_loss: 0.1359 - val_Accuracy: 0.9932\n",
      "Epoch 5/20\n",
      "998/998 [==============================] - 9s 9ms/step - loss: 0.1351 - Accuracy: 0.9944 - val_loss: 0.1360 - val_Accuracy: 0.9932\n",
      "Epoch 6/20\n",
      "998/998 [==============================] - 9s 9ms/step - loss: 0.1294 - Accuracy: 0.9944 - val_loss: 0.1034 - val_Accuracy: 0.9932\n",
      "Epoch 7/20\n",
      "998/998 [==============================] - 9s 9ms/step - loss: 0.1334 - Accuracy: 0.9944 - val_loss: 0.1053 - val_Accuracy: 0.9932\n",
      "Epoch 8/20\n",
      "998/998 [==============================] - 9s 9ms/step - loss: 0.0887 - Accuracy: 0.9944 - val_loss: 0.0869 - val_Accuracy: 0.9932\n",
      "Epoch 9/20\n",
      "998/998 [==============================] - 8s 9ms/step - loss: 0.0883 - Accuracy: 0.9944 - val_loss: 0.0848 - val_Accuracy: 0.9932\n",
      "Epoch 10/20\n",
      "998/998 [==============================] - 9s 9ms/step - loss: 0.0794 - Accuracy: 0.9944 - val_loss: 0.0812 - val_Accuracy: 0.9932\n",
      "Epoch 11/20\n",
      "998/998 [==============================] - 8s 9ms/step - loss: 0.0853 - Accuracy: 0.9902 - val_loss: 0.0910 - val_Accuracy: 0.9932\n",
      "Epoch 12/20\n",
      "998/998 [==============================] - 9s 9ms/step - loss: 0.0878 - Accuracy: 0.9907 - val_loss: 0.1031 - val_Accuracy: 0.9932\n",
      "Epoch 13/20\n",
      "998/998 [==============================] - 9s 9ms/step - loss: 0.0849 - Accuracy: 0.9944 - val_loss: 0.0809 - val_Accuracy: 0.9932\n",
      "Epoch 14/20\n",
      "998/998 [==============================] - 9s 9ms/step - loss: 0.0884 - Accuracy: 0.9901 - val_loss: 0.0877 - val_Accuracy: 0.9932\n",
      "Epoch 15/20\n",
      "998/998 [==============================] - 9s 9ms/step - loss: 0.0804 - Accuracy: 0.9944 - val_loss: 0.0735 - val_Accuracy: 0.9932\n",
      "Epoch 16/20\n",
      "998/998 [==============================] - 9s 9ms/step - loss: 0.0600 - Accuracy: 0.9944 - val_loss: 0.0583 - val_Accuracy: 0.9932\n",
      "Epoch 17/20\n",
      "998/998 [==============================] - 10s 10ms/step - loss: 0.0527 - Accuracy: 0.9944 - val_loss: 0.0566 - val_Accuracy: 0.9932\n",
      "Epoch 18/20\n",
      "998/998 [==============================] - 10s 10ms/step - loss: 0.0507 - Accuracy: 0.9944 - val_loss: 0.0566 - val_Accuracy: 0.9932\n",
      "Epoch 19/20\n",
      "998/998 [==============================] - 11s 11ms/step - loss: 0.0488 - Accuracy: 0.9944 - val_loss: 0.0578 - val_Accuracy: 0.9932\n",
      "Epoch 20/20\n",
      "998/998 [==============================] - 9s 9ms/step - loss: 0.0482 - Accuracy: 0.9944 - val_loss: 0.0568 - val_Accuracy: 0.9932\n"
     ]
    }
   ],
   "source": [
    "lstmModel.compile(loss='binary_crossentropy',optimizer=optimizers.Adam(0.001),metrics=['Accuracy'])\n",
    "lstm_history = lstmModel.fit(x_train,y_train,epochs=20,batch_size=128,callbacks=[lstm_history_logger],validation_data=(x_test,y_test))\n"
   ]
  },
  {
   "cell_type": "code",
   "execution_count": 18,
   "metadata": {},
   "outputs": [
    {
     "data": {
      "image/png": "[encoded data removed]",
      "text/plain": [
       "<Figure size 432x288 with 1 Axes>"
      ]
     },
     "metadata": {
      "needs_background": "light"
     },
     "output_type": "display_data"
    },
    {
     "data": {
      "image/png": "[encoded data removed]",
      "text/plain": [
       "<Figure size 432x288 with 1 Axes>"
      ]
     },
     "metadata": {
      "needs_background": "light"
     },
     "output_type": "display_data"
    }
   ],
   "source": [
    "acc = lstm_history.history['Accuracy']\n",
    "val_acc = lstm_history.history['val_Accuracy']\n",
    "\n",
    "loss = lstm_history.history['loss']\n",
    "val_loss = lstm_history.history['val_loss']\n",
    "\n",
    "plt.plot( acc, 'bo', label='Training acc')\n",
    "plt.plot( val_acc, 'b', label='Validation acc')\n",
    "plt.title('Training and validation accuracy')\n",
    "plt.legend()\n",
    "\n",
    "plt.figure()\n",
    "\n",
    "plt.plot( loss, 'bo', label='Training loss')\n",
    "plt.plot( val_loss, 'b' ,label='Validation loss')\n",
    "plt.title('Training and validation loss')\n",
    "plt.legend()\n",
    "\n",
    "plt.show()"
   ]
  },
  {
   "cell_type": "code",
   "execution_count": 19,
   "metadata": {},
   "outputs": [],
   "source": [
    "# save model\n",
    "lstmModel.save_weights('lstmModel.h5')\\\n",
    " \n",
    "# load model\n",
    "# lstmModelloded = lstmModel.load_weights('lstmModel.h5')\\"
   ]
  },
  {
   "cell_type": "markdown",
   "metadata": {},
   "source": [
    "## prediction"
   ]
  },
  {
   "cell_type": "code",
   "execution_count": 20,
   "metadata": {},
   "outputs": [],
   "source": [
    "text = \"you freaking ! I am going to hit you \"\n",
    "text = clean_text(text)\n",
    "text_seq =  tokenizer.texts_to_sequences([text])\n",
    "sequences_pad = pad_sequences(text_seq, maxlen=100,padding='post')"
   ]
  },
  {
   "cell_type": "code",
   "execution_count": 21,
   "metadata": {},
   "outputs": [
    {
     "data": {
      "text/plain": [
       "[[6, 7, 73, 164, 2, 1498, 6]]"
      ]
     },
     "execution_count": 21,
     "metadata": {},
     "output_type": "execute_result"
    }
   ],
   "source": [
    "text_seq"
   ]
  },
  {
   "cell_type": "code",
   "execution_count": 22,
   "metadata": {},
   "outputs": [
    {
     "name": "stdout",
     "output_type": "stream",
     "text": [
      "1/1 [==============================] - 0s 349ms/step\n"
     ]
    }
   ],
   "source": [
    "pred = lstmModel.predict(sequences_pad)"
   ]
  },
  {
   "cell_type": "code",
   "execution_count": 23,
   "metadata": {},
   "outputs": [
    {
     "data": {
      "text/plain": [
       "(1, 6)"
      ]
     },
     "execution_count": 23,
     "metadata": {},
     "output_type": "execute_result"
    }
   ],
   "source": [
    "pred.shape"
   ]
  },
  {
   "cell_type": "code",
   "execution_count": 24,
   "metadata": {},
   "outputs": [
    {
     "data": {
      "text/plain": [
       "array([[0.6565527 , 0.00378698, 0.15981187, 0.01272053, 0.19174683,\n",
       "        0.03797854]], dtype=float32)"
      ]
     },
     "execution_count": 24,
     "metadata": {},
     "output_type": "execute_result"
    }
   ],
   "source": [
    "pred"
   ]
  },
  {
   "cell_type": "code",
   "execution_count": 25,
   "metadata": {},
   "outputs": [
    {
     "data": {
      "text/plain": [
       "Index(['toxic', 'severe_toxic', 'obscene', 'threat', 'insult',\n",
       "       'identity_hate'],\n",
       "      dtype='object')"
      ]
     },
     "execution_count": 25,
     "metadata": {},
     "output_type": "execute_result"
    }
   ],
   "source": [
    "df.columns[2:]"
   ]
  },
  {
   "cell_type": "markdown",
   "metadata": {},
   "source": [
    "## GRU"
   ]
  },
  {
   "cell_type": "code",
   "execution_count": 14,
   "metadata": {},
   "outputs": [
    {
     "name": "stdout",
     "output_type": "stream",
     "text": [
      "Model: \"sequential_1\"\n",
      "_________________________________________________________________\n",
      " Layer (type)                Output Shape              Param #   \n",
      "=================================================================\n",
      " embedding (Embedding)       (None, 100, 32)           1600032   \n",
      "                                                                 \n",
      " gru (GRU)                   (None, 32)                6336      \n",
      "                                                                 \n",
      " dense (Dense)               (None, 64)                2112      \n",
      "                                                                 \n",
      " dense_1 (Dense)             (None, 32)                2080      \n",
      "                                                                 \n",
      " dense_2 (Dense)             (None, 6)                 198       \n",
      "                                                                 \n",
      "=================================================================\n",
      "Total params: 1,610,758\n",
      "Trainable params: 1,610,758\n",
      "Non-trainable params: 0\n",
      "_________________________________________________________________\n"
     ]
    }
   ],
   "source": [
    "gruModel = models.Sequential()\n",
    "gruModel.add(Embedding(50000+1,32,input_length = x_train.shape[1]))\n",
    "gruModel.add(GRU(32,activation='tanh'))\n",
    "gruModel.add(Dense(64,activation = 'relu'))\n",
    "gruModel.add(Dense(32,activation = 'relu'))\n",
    "gruModel.add(Dense(6,activation = 'sigmoid'))\n",
    "gruModel.summary()"
   ]
  },
  {
   "cell_type": "code",
   "execution_count": 16,
   "metadata": {},
   "outputs": [
    {
     "name": "stdout",
     "output_type": "stream",
     "text": [
      "Epoch 1/10\n",
      "499/499 [==============================] - 8s 10ms/step - loss: 0.1545 - Accuracy: 0.8968 - val_loss: 0.0672 - val_Accuracy: 0.9942\n",
      "Epoch 2/10\n",
      "499/499 [==============================] - 4s 9ms/step - loss: 0.0566 - Accuracy: 0.9942 - val_loss: 0.0538 - val_Accuracy: 0.9942\n",
      "Epoch 3/10\n",
      "499/499 [==============================] - 4s 9ms/step - loss: 0.0508 - Accuracy: 0.9942 - val_loss: 0.0528 - val_Accuracy: 0.9942\n",
      "Epoch 4/10\n",
      "499/499 [==============================] - 4s 9ms/step - loss: 0.0487 - Accuracy: 0.9942 - val_loss: 0.0530 - val_Accuracy: 0.9942\n",
      "Epoch 5/10\n",
      "499/499 [==============================] - 4s 9ms/step - loss: 0.0471 - Accuracy: 0.9942 - val_loss: 0.0547 - val_Accuracy: 0.9942\n",
      "Epoch 6/10\n",
      "499/499 [==============================] - 4s 9ms/step - loss: 0.0459 - Accuracy: 0.9942 - val_loss: 0.0552 - val_Accuracy: 0.9942\n",
      "Epoch 7/10\n",
      "499/499 [==============================] - 4s 9ms/step - loss: 0.0446 - Accuracy: 0.9942 - val_loss: 0.0587 - val_Accuracy: 0.9942\n",
      "Epoch 8/10\n",
      "499/499 [==============================] - 4s 9ms/step - loss: 0.0431 - Accuracy: 0.9941 - val_loss: 0.0574 - val_Accuracy: 0.9941\n",
      "Epoch 9/10\n",
      "499/499 [==============================] - 4s 9ms/step - loss: 0.0416 - Accuracy: 0.9922 - val_loss: 0.0582 - val_Accuracy: 0.9942\n",
      "Epoch 10/10\n",
      "499/499 [==============================] - 4s 9ms/step - loss: 0.0400 - Accuracy: 0.9935 - val_loss: 0.0606 - val_Accuracy: 0.9928\n"
     ]
    }
   ],
   "source": [
    "filename='grulog.csv'\n",
    "gru_history_logger=CSVLogger(filename, separator=\",\", append=True)\n",
    "\n",
    "gruModel.compile(loss='binary_crossentropy',optimizer=optimizers.Adam(0.001),metrics=['Accuracy'])\n",
    "gru_history = gruModel.fit(x_train,y_train,epochs=10,batch_size=256,callbacks=[gru_history_logger],validation_data=(x_test,y_test))\n"
   ]
  },
  {
   "cell_type": "code",
   "execution_count": null,
   "metadata": {},
   "outputs": [],
   "source": [
    "# save model\n",
    "gruModel.save_weights('grumModel.h5')\\\n",
    " \n",
    "# load model\n",
    "# lstmModelloded = lstmModel.load_weights('lstmModel.h5')\\"
   ]
  },
  {
   "cell_type": "code",
   "execution_count": 17,
   "metadata": {},
   "outputs": [
    {
     "data": {
      "image/png": "[encoded data removed]",
      "text/plain": [
       "<Figure size 432x288 with 1 Axes>"
      ]
     },
     "metadata": {
      "needs_background": "light"
     },
     "output_type": "display_data"
    },
    {
     "data": {
      "image/png": "[encoded data removed]",
      "text/plain": [
       "<Figure size 432x288 with 1 Axes>"
      ]
     },
     "metadata": {
      "needs_background": "light"
     },
     "output_type": "display_data"
    }
   ],
   "source": [
    "acc = gru_history.history['Accuracy']\n",
    "val_acc = gru_history.history['val_Accuracy']\n",
    "\n",
    "loss = gru_history.history['loss']\n",
    "val_loss = gru_history.history['val_loss']\n",
    "\n",
    "plt.plot( acc, 'bo', label='Training acc')\n",
    "plt.plot( val_acc, 'b', label='Validation acc')\n",
    "plt.title('Training and validation accuracy')\n",
    "plt.legend()\n",
    "\n",
    "plt.figure()\n",
    "\n",
    "plt.plot( loss, 'bo', label='Training loss')\n",
    "plt.plot( val_loss, 'b' ,label='Validation loss')\n",
    "plt.title('Training and validation loss')\n",
    "plt.legend()\n",
    "\n",
    "plt.show()"
   ]
  },
  {
   "cell_type": "markdown",
   "metadata": {},
   "source": [
    "### Prediction"
   ]
  },
  {
   "cell_type": "code",
   "execution_count": 19,
   "metadata": {},
   "outputs": [
    {
     "name": "stdout",
     "output_type": "stream",
     "text": [
      "1/1 [==============================] - 0s 19ms/step\n"
     ]
    },
    {
     "data": {
      "text/plain": [
       "array([[0.7767696 , 0.01588654, 0.13717616, 0.03764422, 0.3813358 ,\n",
       "        0.0983457 ]], dtype=float32)"
      ]
     },
     "execution_count": 19,
     "metadata": {},
     "output_type": "execute_result"
    }
   ],
   "source": [
    "acc = gru_history.history['Accuracy']\n",
    "val_acc = gru_history.history['val_Accuracy']\n",
    "\n",
    "loss = gru_history.history['loss']\n",
    "val_loss = gru_history.history['val_loss']\n",
    "\n",
    "plt.plot( acc, 'bo', label='Training acc')\n",
    "plt.plot( val_acc, 'b', label='Validation acc')\n",
    "plt.title('Training and validation accuracy')\n",
    "plt.legend()\n",
    "\n",
    "plt.figure()\n",
    "\n",
    "plt.plot( loss, 'bo', label='Training loss')\n",
    "plt.plot( val_loss, 'b' ,label='Validation loss')\n",
    "plt.title('Training and validation loss')\n",
    "plt.legend()\n",
    "\n",
    "plt.show()"
   ]
  },
  {
   "cell_type": "code",
   "execution_count": 20,
   "metadata": {},
   "outputs": [
    {
     "data": {
      "text/plain": [
       "Index(['toxic', 'severe_toxic', 'obscene', 'threat', 'insult',\n",
       "       'identity_hate'],\n",
       "      dtype='object')"
      ]
     },
     "execution_count": 20,
     "metadata": {},
     "output_type": "execute_result"
    }
   ],
   "source": [
    "df.columns[2:]"
   ]
  },
  {
   "cell_type": "markdown",
   "metadata": {},
   "source": [
    "## Bidirection LSTM"
   ]
  },
  {
   "cell_type": "code",
   "execution_count": 23,
   "metadata": {},
   "outputs": [
    {
     "name": "stdout",
     "output_type": "stream",
     "text": [
      "Model: \"sequential_2\"\n",
      "_________________________________________________________________\n",
      " Layer (type)                Output Shape              Param #   \n",
      "=================================================================\n",
      " embedding_1 (Embedding)     (None, 100, 32)           1600032   \n",
      "                                                                 \n",
      " bidirectional_1 (Bidirectio  (None, 64)               16640     \n",
      " nal)                                                            \n",
      "                                                                 \n",
      " dense_3 (Dense)             (None, 64)                4160      \n",
      "                                                                 \n",
      " dense_4 (Dense)             (None, 32)                2080      \n",
      "                                                                 \n",
      " dense_5 (Dense)             (None, 6)                 198       \n",
      "                                                                 \n",
      "=================================================================\n",
      "Total params: 1,623,110\n",
      "Trainable params: 1,623,110\n",
      "Non-trainable params: 0\n",
      "_________________________________________________________________\n"
     ]
    }
   ],
   "source": [
    "blstmModel = models.Sequential()\n",
    "blstmModel.add(Embedding(50000+1,32,input_length = 100))\n",
    "blstmModel.add(Bidirectional(LSTM(32,activation='tanh')))\n",
    "blstmModel.add(Dense(64,activation = 'relu'))\n",
    "blstmModel.add(Dense(32,activation = 'relu'))\n",
    "blstmModel.add(Dense(6,activation = 'sigmoid'))\n",
    "blstmModel.summary()"
   ]
  },
  {
   "cell_type": "code",
   "execution_count": 17,
   "metadata": {},
   "outputs": [
    {
     "name": "stdout",
     "output_type": "stream",
     "text": [
      "Epoch 1/10\n",
      "499/499 [==============================] - 11s 16ms/step - loss: 0.1076 - Accuracy: 0.9802 - val_loss: 0.0588 - val_Accuracy: 0.9948\n",
      "Epoch 2/10\n",
      "499/499 [==============================] - 7s 14ms/step - loss: 0.0543 - Accuracy: 0.9940 - val_loss: 0.0540 - val_Accuracy: 0.9948\n",
      "Epoch 3/10\n",
      "499/499 [==============================] - 7s 14ms/step - loss: 0.0509 - Accuracy: 0.9940 - val_loss: 0.0544 - val_Accuracy: 0.9948\n",
      "Epoch 4/10\n",
      "499/499 [==============================] - 7s 14ms/step - loss: 0.0494 - Accuracy: 0.9935 - val_loss: 0.0541 - val_Accuracy: 0.9948\n",
      "Epoch 5/10\n",
      "499/499 [==============================] - 7s 14ms/step - loss: 0.0480 - Accuracy: 0.9930 - val_loss: 0.0549 - val_Accuracy: 0.9948\n",
      "Epoch 6/10\n",
      "499/499 [==============================] - 7s 14ms/step - loss: 0.0465 - Accuracy: 0.9905 - val_loss: 0.0548 - val_Accuracy: 0.9948\n",
      "Epoch 7/10\n",
      "499/499 [==============================] - 7s 14ms/step - loss: 0.0450 - Accuracy: 0.9875 - val_loss: 0.0570 - val_Accuracy: 0.9948\n",
      "Epoch 8/10\n",
      "499/499 [==============================] - 7s 14ms/step - loss: 0.0436 - Accuracy: 0.9720 - val_loss: 0.0561 - val_Accuracy: 0.9942\n",
      "Epoch 9/10\n",
      "499/499 [==============================] - 7s 14ms/step - loss: 0.0423 - Accuracy: 0.9568 - val_loss: 0.0577 - val_Accuracy: 0.9930\n",
      "Epoch 10/10\n",
      "499/499 [==============================] - 7s 14ms/step - loss: 0.0409 - Accuracy: 0.9230 - val_loss: 0.0589 - val_Accuracy: 0.9820\n"
     ]
    }
   ],
   "source": [
    "filename='blstmlog.csv'\n",
    "blstm_history_logger=CSVLogger(filename, separator=\",\", append=True)\n",
    "\n",
    "blstmModel.compile(loss='binary_crossentropy',optimizer=optimizers.Adam(0.001),metrics=['Accuracy'])\n",
    "blstm_history = blstmModel.fit(x_train,y_train,epochs=10,batch_size=256,callbacks=[blstm_history_logger],validation_data=(x_test,y_test))\n"
   ]
  },
  {
   "cell_type": "code",
   "execution_count": 24,
   "metadata": {},
   "outputs": [],
   "source": [
    "# save model\n",
    "# blstmModel.save_weights('blstmModel.h5')\n",
    " \n",
    "# load model\n",
    "lstmModelloded = blstmModel.load_weights('blstmModel.h5')"
   ]
  },
  {
   "cell_type": "code",
   "execution_count": null,
   "metadata": {},
   "outputs": [],
   "source": [
    "blstmModel"
   ]
  },
  {
   "cell_type": "code",
   "execution_count": 19,
   "metadata": {},
   "outputs": [
    {
     "data": {
      "image/png": "[encoded data removed]",
      "text/plain": [
       "<Figure size 432x288 with 1 Axes>"
      ]
     },
     "metadata": {
      "needs_background": "light"
     },
     "output_type": "display_data"
    },
    {
     "data": {
      "image/png": "[encoded data removed]",
      "text/plain": [
       "<Figure size 432x288 with 1 Axes>"
      ]
     },
     "metadata": {
      "needs_background": "light"
     },
     "output_type": "display_data"
    }
   ],
   "source": [
    "acc = blstm_history.history['Accuracy']\n",
    "val_acc = blstm_history.history['val_Accuracy']\n",
    "\n",
    "loss = blstm_history.history['loss']\n",
    "val_loss = blstm_history.history['val_loss']\n",
    "\n",
    "plt.plot( acc, 'bo', label='Training acc')\n",
    "plt.plot( val_acc, 'b', label='Validation acc')\n",
    "plt.title('Training and validation accuracy')\n",
    "plt.legend()\n",
    "\n",
    "plt.figure()\n",
    "\n",
    "plt.plot( loss, 'bo', label='Training loss')\n",
    "plt.plot( val_loss, 'b' ,label='Validation loss')\n",
    "plt.title('Training and validation loss')\n",
    "plt.legend()\n",
    "\n",
    "plt.show()"
   ]
  },
  {
   "cell_type": "markdown",
   "metadata": {},
   "source": [
    "### Prediction"
   ]
  },
  {
   "cell_type": "code",
   "execution_count": 29,
   "metadata": {},
   "outputs": [
    {
     "name": "stdout",
     "output_type": "stream",
     "text": [
      "1/1 [==============================] - 0s 20ms/step\n"
     ]
    },
    {
     "data": {
      "text/plain": [
       "array([[0.01172782, 0.00029293, 0.00920225, 0.00018134, 0.0049391 ,\n",
       "        0.00083248]], dtype=float32)"
      ]
     },
     "execution_count": 29,
     "metadata": {},
     "output_type": "execute_result"
    }
   ],
   "source": [
    "text = \"you freaking awesome  \"\n",
    "text = clean_text(text)\n",
    "text_seq =  tokenizer.texts_to_sequences([text])\n",
    "sequences_pad = pad_sequences(text_seq, maxlen=100,padding='post')\n",
    "\n",
    "pred = blstmModel.predict(sequences_pad)\n",
    "pred"
   ]
  },
  {
   "cell_type": "code",
   "execution_count": 30,
   "metadata": {},
   "outputs": [
    {
     "data": {
      "text/plain": [
       "array([[0, 0, 0, 0, 0, 0]])"
      ]
     },
     "execution_count": 30,
     "metadata": {},
     "output_type": "execute_result"
    }
   ],
   "source": [
    "(pred >= 0.5).astype(int)"
   ]
  },
  {
   "cell_type": "code",
   "execution_count": 31,
   "metadata": {},
   "outputs": [
    {
     "data": {
      "text/plain": [
       "Index(['toxic', 'severe_toxic', 'obscene', 'threat', 'insult',\n",
       "       'identity_hate'],\n",
       "      dtype='object')"
      ]
     },
     "execution_count": 31,
     "metadata": {},
     "output_type": "execute_result"
    }
   ],
   "source": [
    "df.columns[2:]"
   ]
  },
  {
   "cell_type": "markdown",
   "metadata": {},
   "source": [
    "## Bidirectional GRU"
   ]
  },
  {
   "cell_type": "code",
   "execution_count": 11,
   "metadata": {},
   "outputs": [
    {
     "name": "stdout",
     "output_type": "stream",
     "text": [
      "Model: \"sequential\"\n",
      "_________________________________________________________________\n",
      " Layer (type)                Output Shape              Param #   \n",
      "=================================================================\n",
      " embedding (Embedding)       (None, 100, 32)           1600032   \n",
      "                                                                 \n",
      " bidirectional (Bidirectiona  (None, 64)               12672     \n",
      " l)                                                              \n",
      "                                                                 \n",
      " dense (Dense)               (None, 64)                4160      \n",
      "                                                                 \n",
      " dense_1 (Dense)             (None, 32)                2080      \n",
      "                                                                 \n",
      " dense_2 (Dense)             (None, 6)                 198       \n",
      "                                                                 \n",
      "=================================================================\n",
      "Total params: 1,619,142\n",
      "Trainable params: 1,619,142\n",
      "Non-trainable params: 0\n",
      "_________________________________________________________________\n"
     ]
    }
   ],
   "source": [
    "bgruModel = models.Sequential()\n",
    "bgruModel.add(Embedding(50000+1,32,input_length = x_train.shape[1]))\n",
    "bgruModel.add(Bidirectional(GRU(32,activation='tanh')))\n",
    "bgruModel.add(Dense(64,activation = 'relu'))\n",
    "bgruModel.add(Dense(32,activation = 'relu'))\n",
    "bgruModel.add(Dense(6,activation = 'sigmoid'))\n",
    "bgruModel.summary()"
   ]
  },
  {
   "cell_type": "code",
   "execution_count": 12,
   "metadata": {},
   "outputs": [
    {
     "name": "stdout",
     "output_type": "stream",
     "text": [
      "Epoch 1/10\n",
      "499/499 [==============================] - 11s 15ms/step - loss: 0.1079 - Accuracy: 0.9060 - val_loss: 0.0610 - val_Accuracy: 0.9941\n",
      "Epoch 2/10\n",
      "499/499 [==============================] - 7s 13ms/step - loss: 0.0547 - Accuracy: 0.9942 - val_loss: 0.0572 - val_Accuracy: 0.9941\n",
      "Epoch 3/10\n",
      "499/499 [==============================] - 7s 13ms/step - loss: 0.0519 - Accuracy: 0.9942 - val_loss: 0.0544 - val_Accuracy: 0.9941\n",
      "Epoch 4/10\n",
      "499/499 [==============================] - 7s 13ms/step - loss: 0.0494 - Accuracy: 0.9942 - val_loss: 0.0545 - val_Accuracy: 0.9941\n",
      "Epoch 5/10\n",
      "499/499 [==============================] - 7s 13ms/step - loss: 0.0479 - Accuracy: 0.9942 - val_loss: 0.0543 - val_Accuracy: 0.9941\n",
      "Epoch 6/10\n",
      "499/499 [==============================] - 7s 13ms/step - loss: 0.0467 - Accuracy: 0.9942 - val_loss: 0.0538 - val_Accuracy: 0.9941\n",
      "Epoch 7/10\n",
      "499/499 [==============================] - 7s 13ms/step - loss: 0.0452 - Accuracy: 0.9941 - val_loss: 0.0543 - val_Accuracy: 0.9937\n",
      "Epoch 8/10\n",
      "499/499 [==============================] - 7s 13ms/step - loss: 0.0437 - Accuracy: 0.9940 - val_loss: 0.0550 - val_Accuracy: 0.9937\n",
      "Epoch 9/10\n",
      "499/499 [==============================] - 7s 13ms/step - loss: 0.0424 - Accuracy: 0.9938 - val_loss: 0.0555 - val_Accuracy: 0.9940\n",
      "Epoch 10/10\n",
      "499/499 [==============================] - 7s 13ms/step - loss: 0.0408 - Accuracy: 0.9939 - val_loss: 0.0576 - val_Accuracy: 0.9940\n"
     ]
    }
   ],
   "source": [
    "filename='grulog.csv'\n",
    "bgru_history_logger=CSVLogger(filename, separator=\",\", append=True)\n",
    "\n",
    "bgruModel.compile(loss='binary_crossentropy',optimizer=optimizers.Adam(0.001),metrics=['Accuracy'])\n",
    "bgru_history = bgruModel.fit(x_train,y_train,epochs=10,batch_size=256,callbacks=[bgru_history_logger],validation_data=(x_test,y_test))\n"
   ]
  },
  {
   "cell_type": "code",
   "execution_count": 13,
   "metadata": {},
   "outputs": [],
   "source": [
    "# save model\n",
    "# bgruModel.save_weights('bgruModel.h5')\\\n",
    " \n",
    "# load model\n",
    "# lstmModelloded = lstmModel.load_weights('bgruModel.h5')"
   ]
  },
  {
   "cell_type": "code",
   "execution_count": 14,
   "metadata": {},
   "outputs": [
    {
     "data": {
      "image/png": "[encoded data removed]",
      "text/plain": [
       "<Figure size 432x288 with 1 Axes>"
      ]
     },
     "metadata": {
      "needs_background": "light"
     },
     "output_type": "display_data"
    },
    {
     "data": {
      "image/png": "[encoded data removed]",
      "text/plain": [
       "<Figure size 432x288 with 1 Axes>"
      ]
     },
     "metadata": {
      "needs_background": "light"
     },
     "output_type": "display_data"
    }
   ],
   "source": [
    "acc = bgru_history.history['Accuracy']\n",
    "val_acc = bgru_history.history['val_Accuracy']\n",
    "\n",
    "loss = bgru_history.history['loss']\n",
    "val_loss = bgru_history.history['val_loss']\n",
    "\n",
    "plt.plot( acc, 'bo', label='Training acc')\n",
    "plt.plot( val_acc, 'b', label='Validation acc')\n",
    "plt.title('Training and validation accuracy')\n",
    "plt.legend()\n",
    "\n",
    "plt.figure()\n",
    "\n",
    "plt.plot( loss, 'bo', label='Training loss')\n",
    "plt.plot( val_loss, 'b' ,label='Validation loss')\n",
    "plt.title('Training and validation loss')\n",
    "plt.legend()\n",
    "\n",
    "plt.show()"
   ]
  },
  {
   "cell_type": "markdown",
   "metadata": {},
   "source": [
    "### Prediction"
   ]
  },
  {
   "cell_type": "code",
   "execution_count": 15,
   "metadata": {},
   "outputs": [
    {
     "name": "stdout",
     "output_type": "stream",
     "text": [
      "1/1 [==============================] - 0s 441ms/step\n"
     ]
    },
    {
     "data": {
      "text/plain": [
       "array([[0.7075781 , 0.02198998, 0.12445681, 0.06636558, 0.26061437,\n",
       "        0.09349374]], dtype=float32)"
      ]
     },
     "execution_count": 15,
     "metadata": {},
     "output_type": "execute_result"
    }
   ],
   "source": [
    "text = \"you freaking bad ! I am going to hit you \"\n",
    "text = clean_text(text)\n",
    "text_seq =  tokenizer.texts_to_sequences([text])\n",
    "sequences_pad = pad_sequences(text_seq, maxlen=100,padding='post')\n",
    "\n",
    "pred = bgruModel.predict(sequences_pad)\n",
    "pred"
   ]
  },
  {
   "cell_type": "code",
   "execution_count": null,
   "metadata": {},
   "outputs": [
    {
     "data": {
      "text/plain": [
       "Index(['toxic', 'severe_toxic', 'obscene', 'threat', 'insult',\n",
       "       'identity_hate'],\n",
       "      dtype='object')"
      ]
     },
     "metadata": {},
     "output_type": "display_data"
    }
   ],
   "source": [
    "df.columns[2:]"
   ]
  },
  {
   "cell_type": "code",
   "execution_count": 32,
   "metadata": {},
   "outputs": [
    {
     "data": {
      "text/html": [
       "<div>\n",
       "<style scoped>\n",
       "    .dataframe tbody tr th:only-of-type {\n",
       "        vertical-align: middle;\n",
       "    }\n",
       "\n",
       "    .dataframe tbody tr th {\n",
       "        vertical-align: top;\n",
       "    }\n",
       "\n",
       "    .dataframe thead th {\n",
       "        text-align: right;\n",
       "    }\n",
       "</style>\n",
       "<table border=\"1\" class=\"dataframe\">\n",
       "  <thead>\n",
       "    <tr style=\"text-align: right;\">\n",
       "      <th></th>\n",
       "      <th>id</th>\n",
       "      <th>comment_text</th>\n",
       "    </tr>\n",
       "  </thead>\n",
       "  <tbody>\n",
       "    <tr>\n",
       "      <th>0</th>\n",
       "      <td>00001cee341fdb12</td>\n",
       "      <td>Yo bitch Ja Rule is more succesful then you'll...</td>\n",
       "    </tr>\n",
       "    <tr>\n",
       "      <th>1</th>\n",
       "      <td>0000247867823ef7</td>\n",
       "      <td>== From RfC == \\n\\n The title is fine as it is...</td>\n",
       "    </tr>\n",
       "    <tr>\n",
       "      <th>2</th>\n",
       "      <td>00013b17ad220c46</td>\n",
       "      <td>\" \\n\\n == Sources == \\n\\n * Zawe Ashton on Lap...</td>\n",
       "    </tr>\n",
       "    <tr>\n",
       "      <th>3</th>\n",
       "      <td>00017563c3f7919a</td>\n",
       "      <td>:If you have a look back at the source, the in...</td>\n",
       "    </tr>\n",
       "    <tr>\n",
       "      <th>4</th>\n",
       "      <td>00017695ad8997eb</td>\n",
       "      <td>I don't anonymously edit articles at all.</td>\n",
       "    </tr>\n",
       "  </tbody>\n",
       "</table>\n",
       "</div>"
      ],
      "text/plain": [
       "                 id                                       comment_text\n",
       "0  00001cee341fdb12  Yo bitch Ja Rule is more succesful then you'll...\n",
       "1  0000247867823ef7  == From RfC == \\n\\n The title is fine as it is...\n",
       "2  00013b17ad220c46  \" \\n\\n == Sources == \\n\\n * Zawe Ashton on Lap...\n",
       "3  00017563c3f7919a  :If you have a look back at the source, the in...\n",
       "4  00017695ad8997eb          I don't anonymously edit articles at all."
      ]
     },
     "execution_count": 32,
     "metadata": {},
     "output_type": "execute_result"
    }
   ],
   "source": [
    "test_df = pd.read_csv('test.csv')\n",
    "test_df.head()"
   ]
  },
  {
   "cell_type": "code",
   "execution_count": 33,
   "metadata": {},
   "outputs": [
    {
     "data": {
      "text/html": [
       "<div>\n",
       "<style scoped>\n",
       "    .dataframe tbody tr th:only-of-type {\n",
       "        vertical-align: middle;\n",
       "    }\n",
       "\n",
       "    .dataframe tbody tr th {\n",
       "        vertical-align: top;\n",
       "    }\n",
       "\n",
       "    .dataframe thead th {\n",
       "        text-align: right;\n",
       "    }\n",
       "</style>\n",
       "<table border=\"1\" class=\"dataframe\">\n",
       "  <thead>\n",
       "    <tr style=\"text-align: right;\">\n",
       "      <th></th>\n",
       "      <th>id</th>\n",
       "      <th>comment_text</th>\n",
       "    </tr>\n",
       "  </thead>\n",
       "  <tbody>\n",
       "    <tr>\n",
       "      <th>0</th>\n",
       "      <td>00001cee341fdb12</td>\n",
       "      <td>yo bitch ja rule is more succesful then youll ...</td>\n",
       "    </tr>\n",
       "    <tr>\n",
       "      <th>1</th>\n",
       "      <td>0000247867823ef7</td>\n",
       "      <td>from rfc  \\n\\n the title is fine as it is imo</td>\n",
       "    </tr>\n",
       "    <tr>\n",
       "      <th>2</th>\n",
       "      <td>00013b17ad220c46</td>\n",
       "      <td>\\n\\n  sources  \\n\\n  zawe ashton on lapland</td>\n",
       "    </tr>\n",
       "    <tr>\n",
       "      <th>3</th>\n",
       "      <td>00017563c3f7919a</td>\n",
       "      <td>if you have a look back at the source the info...</td>\n",
       "    </tr>\n",
       "    <tr>\n",
       "      <th>4</th>\n",
       "      <td>00017695ad8997eb</td>\n",
       "      <td>i dont anonymously edit articles at all</td>\n",
       "    </tr>\n",
       "    <tr>\n",
       "      <th>...</th>\n",
       "      <td>...</td>\n",
       "      <td>...</td>\n",
       "    </tr>\n",
       "    <tr>\n",
       "      <th>153159</th>\n",
       "      <td>fffcd0960ee309b5</td>\n",
       "      <td>\\n i totally agree this stuff is nothing but ...</td>\n",
       "    </tr>\n",
       "    <tr>\n",
       "      <th>153160</th>\n",
       "      <td>fffd7a9a6eb32c16</td>\n",
       "      <td>throw from out field to home plate  \\n\\n does...</td>\n",
       "    </tr>\n",
       "    <tr>\n",
       "      <th>153161</th>\n",
       "      <td>fffda9e8d6fafa9e</td>\n",
       "      <td>\\n\\n  okinotorishima categories  \\n\\n i see y...</td>\n",
       "    </tr>\n",
       "    <tr>\n",
       "      <th>153162</th>\n",
       "      <td>fffe8f1340a79fc2</td>\n",
       "      <td>\\n\\n  one of the founding nations of the eu  ...</td>\n",
       "    </tr>\n",
       "    <tr>\n",
       "      <th>153163</th>\n",
       "      <td>ffffce3fb183ee80</td>\n",
       "      <td>\\n stop already your bullshit is not welcome ...</td>\n",
       "    </tr>\n",
       "  </tbody>\n",
       "</table>\n",
       "<p>153164 rows × 2 columns</p>\n",
       "</div>"
      ],
      "text/plain": [
       "                      id                                       comment_text\n",
       "0       00001cee341fdb12  yo bitch ja rule is more succesful then youll ...\n",
       "1       0000247867823ef7      from rfc  \\n\\n the title is fine as it is imo\n",
       "2       00013b17ad220c46   \\n\\n  sources  \\n\\n  zawe ashton on lapland     \n",
       "3       00017563c3f7919a  if you have a look back at the source the info...\n",
       "4       00017695ad8997eb            i dont anonymously edit articles at all\n",
       "...                  ...                                                ...\n",
       "153159  fffcd0960ee309b5   \\n i totally agree this stuff is nothing but ...\n",
       "153160  fffd7a9a6eb32c16   throw from out field to home plate  \\n\\n does...\n",
       "153161  fffda9e8d6fafa9e   \\n\\n  okinotorishima categories  \\n\\n i see y...\n",
       "153162  fffe8f1340a79fc2   \\n\\n  one of the founding nations of the eu  ...\n",
       "153163  ffffce3fb183ee80   \\n stop already your bullshit is not welcome ...\n",
       "\n",
       "[153164 rows x 2 columns]"
      ]
     },
     "execution_count": 33,
     "metadata": {},
     "output_type": "execute_result"
    }
   ],
   "source": [
    "test_df['comment_text'] =test_df['comment_text'].apply(clean_text)\n",
    "test_df"
   ]
  },
  {
   "cell_type": "code",
   "execution_count": 37,
   "metadata": {},
   "outputs": [],
   "source": [
    "test_df_seq =  tokenizer.texts_to_sequences(test_df['comment_text'])\n",
    "sequences_pad = pad_sequences(test_df_seq, maxlen=100,padding='post')\n",
    "\n"
   ]
  },
  {
   "cell_type": "code",
   "execution_count": 39,
   "metadata": {},
   "outputs": [
    {
     "name": "stdout",
     "output_type": "stream",
     "text": [
      "4787/4787 [==============================] - 16s 3ms/step\n"
     ]
    },
    {
     "data": {
      "text/plain": [
       "array([[5.1329426e-02, 5.4089483e-05, 3.7589371e-03, 8.2316255e-05,\n",
       "        3.0933556e-03, 3.8074219e-04],\n",
       "       [5.5037055e-04, 1.1396821e-06, 1.5029845e-04, 8.4506337e-07,\n",
       "        6.2783081e-05, 6.5837612e-06],\n",
       "       [2.0725934e-02, 1.9865339e-04, 6.4424383e-03, 2.2384280e-04,\n",
       "        4.4748201e-03, 9.6397166e-04],\n",
       "       ...,\n",
       "       [4.6900465e-04, 5.3894854e-07, 9.6031239e-05, 3.7010957e-07,\n",
       "        4.3881882e-05, 3.2361349e-06],\n",
       "       [5.2023637e-01, 9.3046541e-04, 5.1990893e-02, 1.8918837e-03,\n",
       "        5.5118088e-02, 7.2190259e-03],\n",
       "       [7.6257229e-01, 7.0310347e-03, 1.1275840e-01, 1.9584537e-02,\n",
       "        2.4556752e-01, 6.4149454e-02]], dtype=float32)"
      ]
     },
     "execution_count": 39,
     "metadata": {},
     "output_type": "execute_result"
    }
   ],
   "source": [
    "pred = blstmModel.predict(sequences_pad)\n",
    "pred"
   ]
  },
  {
   "cell_type": "code",
   "execution_count": 41,
   "metadata": {},
   "outputs": [
    {
     "data": {
      "text/plain": [
       "(153164, 6)"
      ]
     },
     "execution_count": 41,
     "metadata": {},
     "output_type": "execute_result"
    }
   ],
   "source": [
    "pred.shape"
   ]
  },
  {
   "cell_type": "code",
   "execution_count": 42,
   "metadata": {},
   "outputs": [],
   "source": [
    "pred = (pred >=0.5).astype(int)"
   ]
  },
  {
   "cell_type": "code",
   "execution_count": 44,
   "metadata": {},
   "outputs": [
    {
     "data": {
      "text/html": [
       "<div>\n",
       "<style scoped>\n",
       "    .dataframe tbody tr th:only-of-type {\n",
       "        vertical-align: middle;\n",
       "    }\n",
       "\n",
       "    .dataframe tbody tr th {\n",
       "        vertical-align: top;\n",
       "    }\n",
       "\n",
       "    .dataframe thead th {\n",
       "        text-align: right;\n",
       "    }\n",
       "</style>\n",
       "<table border=\"1\" class=\"dataframe\">\n",
       "  <thead>\n",
       "    <tr style=\"text-align: right;\">\n",
       "      <th></th>\n",
       "      <th>id</th>\n",
       "      <th>comment_text</th>\n",
       "      <th>toxic</th>\n",
       "      <th>severe_toxic</th>\n",
       "      <th>obscene</th>\n",
       "      <th>threat</th>\n",
       "      <th>insult</th>\n",
       "      <th>identity_hate</th>\n",
       "    </tr>\n",
       "  </thead>\n",
       "  <tbody>\n",
       "    <tr>\n",
       "      <th>0</th>\n",
       "      <td>00001cee341fdb12</td>\n",
       "      <td>yo bitch ja rule is more succesful then youll ...</td>\n",
       "      <td>0</td>\n",
       "      <td>0</td>\n",
       "      <td>0</td>\n",
       "      <td>0</td>\n",
       "      <td>0</td>\n",
       "      <td>0</td>\n",
       "    </tr>\n",
       "    <tr>\n",
       "      <th>1</th>\n",
       "      <td>0000247867823ef7</td>\n",
       "      <td>from rfc  \\n\\n the title is fine as it is imo</td>\n",
       "      <td>0</td>\n",
       "      <td>0</td>\n",
       "      <td>0</td>\n",
       "      <td>0</td>\n",
       "      <td>0</td>\n",
       "      <td>0</td>\n",
       "    </tr>\n",
       "    <tr>\n",
       "      <th>2</th>\n",
       "      <td>00013b17ad220c46</td>\n",
       "      <td>\\n\\n  sources  \\n\\n  zawe ashton on lapland</td>\n",
       "      <td>0</td>\n",
       "      <td>0</td>\n",
       "      <td>0</td>\n",
       "      <td>0</td>\n",
       "      <td>0</td>\n",
       "      <td>0</td>\n",
       "    </tr>\n",
       "    <tr>\n",
       "      <th>3</th>\n",
       "      <td>00017563c3f7919a</td>\n",
       "      <td>if you have a look back at the source the info...</td>\n",
       "      <td>0</td>\n",
       "      <td>0</td>\n",
       "      <td>0</td>\n",
       "      <td>0</td>\n",
       "      <td>0</td>\n",
       "      <td>0</td>\n",
       "    </tr>\n",
       "    <tr>\n",
       "      <th>4</th>\n",
       "      <td>00017695ad8997eb</td>\n",
       "      <td>i dont anonymously edit articles at all</td>\n",
       "      <td>0</td>\n",
       "      <td>0</td>\n",
       "      <td>0</td>\n",
       "      <td>0</td>\n",
       "      <td>0</td>\n",
       "      <td>0</td>\n",
       "    </tr>\n",
       "  </tbody>\n",
       "</table>\n",
       "</div>"
      ],
      "text/plain": [
       "                 id                                       comment_text  toxic  \\\n",
       "0  00001cee341fdb12  yo bitch ja rule is more succesful then youll ...      0   \n",
       "1  0000247867823ef7      from rfc  \\n\\n the title is fine as it is imo      0   \n",
       "2  00013b17ad220c46   \\n\\n  sources  \\n\\n  zawe ashton on lapland           0   \n",
       "3  00017563c3f7919a  if you have a look back at the source the info...      0   \n",
       "4  00017695ad8997eb            i dont anonymously edit articles at all      0   \n",
       "\n",
       "   severe_toxic  obscene  threat  insult  identity_hate  \n",
       "0             0        0       0       0              0  \n",
       "1             0        0       0       0              0  \n",
       "2             0        0       0       0              0  \n",
       "3             0        0       0       0              0  \n",
       "4             0        0       0       0              0  "
      ]
     },
     "execution_count": 44,
     "metadata": {},
     "output_type": "execute_result"
    }
   ],
   "source": [
    "result_df = pd.DataFrame(pred,columns=df.columns[2:])\n",
    "Test_output = pd.concat([test_df,result_df],axis=1)\n",
    "Test_output.head()"
   ]
  },
  {
   "cell_type": "code",
   "execution_count": 45,
   "metadata": {},
   "outputs": [],
   "source": [
    "Test_output.to_csv('Test_output.csv',index=False)"
   ]
  },
  {
   "cell_type": "code",
   "execution_count": null,
   "metadata": {},
   "outputs": [],
   "source": []
  }
 ],
 "metadata": {
  "kernelspec": {
   "display_name": "Python 3.10.4 64-bit",
   "language": "python",
   "name": "python3"
  },
  "language_info": {
   "codemirror_mode": {
    "name": "ipython",
    "version": 3
   },
   "file_extension": ".py",
   "mimetype": "text/x-python",
   "name": "python",
   "nbconvert_exporter": "python",
   "pygments_lexer": "ipython3",
   "version": "3.10.4"
  },
  "orig_nbformat": 4,
  "vscode": {
   "interpreter": {
    "hash": "26de051ba29f2982a8de78e945f0abaf191376122a1563185a90213a26c5da77"
   }
  }
 },
 "nbformat": 4,
 "nbformat_minor": 2
}
